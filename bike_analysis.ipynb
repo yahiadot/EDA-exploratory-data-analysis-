{
 "cells": [
  {
   "cell_type": "markdown",
   "id": "20b8f890",
   "metadata": {},
   "source": [
    "## load the libraries"
   ]
  },
  {
   "cell_type": "code",
   "execution_count": 1,
   "id": "2d202446",
   "metadata": {},
   "outputs": [],
   "source": [
    "import numpy as np\n",
    "import pandas as pd\n",
    "import seaborn as sns"
   ]
  },
  {
   "cell_type": "markdown",
   "id": "a2015343",
   "metadata": {},
   "source": [
    "## load the dataset "
   ]
  },
  {
   "cell_type": "code",
   "execution_count": 2,
   "id": "91b9486a",
   "metadata": {},
   "outputs": [
    {
     "data": {
      "text/html": [
       "<div>\n",
       "<style scoped>\n",
       "    .dataframe tbody tr th:only-of-type {\n",
       "        vertical-align: middle;\n",
       "    }\n",
       "\n",
       "    .dataframe tbody tr th {\n",
       "        vertical-align: top;\n",
       "    }\n",
       "\n",
       "    .dataframe thead th {\n",
       "        text-align: right;\n",
       "    }\n",
       "</style>\n",
       "<table border=\"1\" class=\"dataframe\">\n",
       "  <thead>\n",
       "    <tr style=\"text-align: right;\">\n",
       "      <th></th>\n",
       "      <th>datetime</th>\n",
       "      <th>season</th>\n",
       "      <th>holiday</th>\n",
       "      <th>workingday</th>\n",
       "      <th>weather</th>\n",
       "      <th>temp</th>\n",
       "      <th>humidity</th>\n",
       "      <th>windspeed</th>\n",
       "      <th>casual</th>\n",
       "      <th>registered</th>\n",
       "      <th>rented_bikes_count</th>\n",
       "    </tr>\n",
       "  </thead>\n",
       "  <tbody>\n",
       "    <tr>\n",
       "      <th>0</th>\n",
       "      <td>2011-01-01 00:00:00</td>\n",
       "      <td>Spring</td>\n",
       "      <td>0.0</td>\n",
       "      <td>0.0</td>\n",
       "      <td>Clear</td>\n",
       "      <td>9.84</td>\n",
       "      <td>81.0</td>\n",
       "      <td>NaN</td>\n",
       "      <td>3</td>\n",
       "      <td>13</td>\n",
       "      <td>16</td>\n",
       "    </tr>\n",
       "    <tr>\n",
       "      <th>1</th>\n",
       "      <td>2011-01-01 01:00:00</td>\n",
       "      <td>Spring</td>\n",
       "      <td>0.0</td>\n",
       "      <td>0.0</td>\n",
       "      <td>NaN</td>\n",
       "      <td>9.02</td>\n",
       "      <td>80.0</td>\n",
       "      <td>0.0</td>\n",
       "      <td>8</td>\n",
       "      <td>32</td>\n",
       "      <td>40</td>\n",
       "    </tr>\n",
       "    <tr>\n",
       "      <th>2</th>\n",
       "      <td>2011-01-01 02:00:00</td>\n",
       "      <td>Spring</td>\n",
       "      <td>0.0</td>\n",
       "      <td>0.0</td>\n",
       "      <td>Clear</td>\n",
       "      <td>9.02</td>\n",
       "      <td>NaN</td>\n",
       "      <td>0.0</td>\n",
       "      <td>5</td>\n",
       "      <td>27</td>\n",
       "      <td>32</td>\n",
       "    </tr>\n",
       "    <tr>\n",
       "      <th>3</th>\n",
       "      <td>2011-01-01 03:00:00</td>\n",
       "      <td>Spring</td>\n",
       "      <td>0.0</td>\n",
       "      <td>0.0</td>\n",
       "      <td>Clear</td>\n",
       "      <td>9.84</td>\n",
       "      <td>75.0</td>\n",
       "      <td>0.0</td>\n",
       "      <td>3</td>\n",
       "      <td>10</td>\n",
       "      <td>13</td>\n",
       "    </tr>\n",
       "  </tbody>\n",
       "</table>\n",
       "</div>"
      ],
      "text/plain": [
       "              datetime  season  holiday  workingday weather  temp  humidity  \\\n",
       "0  2011-01-01 00:00:00  Spring      0.0         0.0   Clear  9.84      81.0   \n",
       "1  2011-01-01 01:00:00  Spring      0.0         0.0     NaN  9.02      80.0   \n",
       "2  2011-01-01 02:00:00  Spring      0.0         0.0   Clear  9.02       NaN   \n",
       "3  2011-01-01 03:00:00  Spring      0.0         0.0   Clear  9.84      75.0   \n",
       "\n",
       "   windspeed  casual  registered  rented_bikes_count  \n",
       "0        NaN       3          13                  16  \n",
       "1        0.0       8          32                  40  \n",
       "2        0.0       5          27                  32  \n",
       "3        0.0       3          10                  13  "
      ]
     },
     "execution_count": 2,
     "metadata": {},
     "output_type": "execute_result"
    }
   ],
   "source": [
    "df= pd.read_csv(\"bikes.csv\")\n",
    "df.head(4)"
   ]
  },
  {
   "cell_type": "code",
   "execution_count": 3,
   "id": "cab673a3",
   "metadata": {},
   "outputs": [
    {
     "name": "stdout",
     "output_type": "stream",
     "text": [
      "<class 'pandas.core.frame.DataFrame'>\n",
      "RangeIndex: 10886 entries, 0 to 10885\n",
      "Data columns (total 11 columns):\n",
      " #   Column              Non-Null Count  Dtype  \n",
      "---  ------              --------------  -----  \n",
      " 0   datetime            10886 non-null  object \n",
      " 1   season              10672 non-null  object \n",
      " 2   holiday             10030 non-null  float64\n",
      " 3   workingday          9388 non-null   float64\n",
      " 4   weather             8746 non-null   object \n",
      " 5   temp                8104 non-null   float64\n",
      " 6   humidity            7462 non-null   float64\n",
      " 7   windspeed           6820 non-null   float64\n",
      " 8   casual              10886 non-null  int64  \n",
      " 9   registered          10886 non-null  int64  \n",
      " 10  rented_bikes_count  10886 non-null  int64  \n",
      "dtypes: float64(5), int64(3), object(3)\n",
      "memory usage: 935.6+ KB\n"
     ]
    }
   ],
   "source": [
    "df.info()"
   ]
  },
  {
   "cell_type": "code",
   "execution_count": 4,
   "id": "1f2c9cd8",
   "metadata": {},
   "outputs": [
    {
     "data": {
      "text/html": [
       "<div>\n",
       "<style scoped>\n",
       "    .dataframe tbody tr th:only-of-type {\n",
       "        vertical-align: middle;\n",
       "    }\n",
       "\n",
       "    .dataframe tbody tr th {\n",
       "        vertical-align: top;\n",
       "    }\n",
       "\n",
       "    .dataframe thead th {\n",
       "        text-align: right;\n",
       "    }\n",
       "</style>\n",
       "<table border=\"1\" class=\"dataframe\">\n",
       "  <thead>\n",
       "    <tr style=\"text-align: right;\">\n",
       "      <th></th>\n",
       "      <th>holiday</th>\n",
       "      <th>workingday</th>\n",
       "      <th>temp</th>\n",
       "      <th>humidity</th>\n",
       "      <th>windspeed</th>\n",
       "      <th>casual</th>\n",
       "      <th>registered</th>\n",
       "      <th>rented_bikes_count</th>\n",
       "    </tr>\n",
       "  </thead>\n",
       "  <tbody>\n",
       "    <tr>\n",
       "      <th>count</th>\n",
       "      <td>10030.000000</td>\n",
       "      <td>9388.000000</td>\n",
       "      <td>8104.000000</td>\n",
       "      <td>7462.000000</td>\n",
       "      <td>6820.000000</td>\n",
       "      <td>10886.000000</td>\n",
       "      <td>10886.000000</td>\n",
       "      <td>10886.000000</td>\n",
       "    </tr>\n",
       "    <tr>\n",
       "      <th>mean</th>\n",
       "      <td>0.029113</td>\n",
       "      <td>0.678206</td>\n",
       "      <td>20.317665</td>\n",
       "      <td>61.790673</td>\n",
       "      <td>12.708806</td>\n",
       "      <td>36.021955</td>\n",
       "      <td>155.552177</td>\n",
       "      <td>191.574132</td>\n",
       "    </tr>\n",
       "    <tr>\n",
       "      <th>std</th>\n",
       "      <td>0.168131</td>\n",
       "      <td>0.467189</td>\n",
       "      <td>7.818568</td>\n",
       "      <td>19.262084</td>\n",
       "      <td>8.131154</td>\n",
       "      <td>49.960477</td>\n",
       "      <td>151.039033</td>\n",
       "      <td>181.144454</td>\n",
       "    </tr>\n",
       "    <tr>\n",
       "      <th>min</th>\n",
       "      <td>0.000000</td>\n",
       "      <td>0.000000</td>\n",
       "      <td>0.820000</td>\n",
       "      <td>0.000000</td>\n",
       "      <td>0.000000</td>\n",
       "      <td>0.000000</td>\n",
       "      <td>0.000000</td>\n",
       "      <td>1.000000</td>\n",
       "    </tr>\n",
       "    <tr>\n",
       "      <th>25%</th>\n",
       "      <td>0.000000</td>\n",
       "      <td>0.000000</td>\n",
       "      <td>13.940000</td>\n",
       "      <td>47.000000</td>\n",
       "      <td>7.001500</td>\n",
       "      <td>4.000000</td>\n",
       "      <td>36.000000</td>\n",
       "      <td>42.000000</td>\n",
       "    </tr>\n",
       "    <tr>\n",
       "      <th>50%</th>\n",
       "      <td>0.000000</td>\n",
       "      <td>1.000000</td>\n",
       "      <td>20.500000</td>\n",
       "      <td>62.000000</td>\n",
       "      <td>12.998000</td>\n",
       "      <td>17.000000</td>\n",
       "      <td>118.000000</td>\n",
       "      <td>145.000000</td>\n",
       "    </tr>\n",
       "    <tr>\n",
       "      <th>75%</th>\n",
       "      <td>0.000000</td>\n",
       "      <td>1.000000</td>\n",
       "      <td>26.240000</td>\n",
       "      <td>77.000000</td>\n",
       "      <td>16.997900</td>\n",
       "      <td>49.000000</td>\n",
       "      <td>222.000000</td>\n",
       "      <td>284.000000</td>\n",
       "    </tr>\n",
       "    <tr>\n",
       "      <th>max</th>\n",
       "      <td>1.000000</td>\n",
       "      <td>1.000000</td>\n",
       "      <td>41.000000</td>\n",
       "      <td>100.000000</td>\n",
       "      <td>56.996900</td>\n",
       "      <td>367.000000</td>\n",
       "      <td>886.000000</td>\n",
       "      <td>977.000000</td>\n",
       "    </tr>\n",
       "  </tbody>\n",
       "</table>\n",
       "</div>"
      ],
      "text/plain": [
       "            holiday   workingday         temp     humidity    windspeed  \\\n",
       "count  10030.000000  9388.000000  8104.000000  7462.000000  6820.000000   \n",
       "mean       0.029113     0.678206    20.317665    61.790673    12.708806   \n",
       "std        0.168131     0.467189     7.818568    19.262084     8.131154   \n",
       "min        0.000000     0.000000     0.820000     0.000000     0.000000   \n",
       "25%        0.000000     0.000000    13.940000    47.000000     7.001500   \n",
       "50%        0.000000     1.000000    20.500000    62.000000    12.998000   \n",
       "75%        0.000000     1.000000    26.240000    77.000000    16.997900   \n",
       "max        1.000000     1.000000    41.000000   100.000000    56.996900   \n",
       "\n",
       "             casual    registered  rented_bikes_count  \n",
       "count  10886.000000  10886.000000        10886.000000  \n",
       "mean      36.021955    155.552177          191.574132  \n",
       "std       49.960477    151.039033          181.144454  \n",
       "min        0.000000      0.000000            1.000000  \n",
       "25%        4.000000     36.000000           42.000000  \n",
       "50%       17.000000    118.000000          145.000000  \n",
       "75%       49.000000    222.000000          284.000000  \n",
       "max      367.000000    886.000000          977.000000  "
      ]
     },
     "execution_count": 4,
     "metadata": {},
     "output_type": "execute_result"
    }
   ],
   "source": [
    "df.describe()"
   ]
  },
  {
   "cell_type": "code",
   "execution_count": 5,
   "id": "b5366336",
   "metadata": {},
   "outputs": [
    {
     "data": {
      "text/plain": [
       "Index(['datetime', 'season', 'holiday', 'workingday', 'weather', 'temp',\n",
       "       'humidity', 'windspeed', 'casual', 'registered', 'rented_bikes_count'],\n",
       "      dtype='object')"
      ]
     },
     "execution_count": 5,
     "metadata": {},
     "output_type": "execute_result"
    }
   ],
   "source": [
    "df.columns"
   ]
  },
  {
   "cell_type": "markdown",
   "id": "d98e1371",
   "metadata": {},
   "source": [
    "## Bike rentals vs. user type"
   ]
  },
  {
   "cell_type": "code",
   "execution_count": 6,
   "id": "1a6f2b69",
   "metadata": {},
   "outputs": [
    {
     "data": {
      "text/html": [
       "<div>\n",
       "<style scoped>\n",
       "    .dataframe tbody tr th:only-of-type {\n",
       "        vertical-align: middle;\n",
       "    }\n",
       "\n",
       "    .dataframe tbody tr th {\n",
       "        vertical-align: top;\n",
       "    }\n",
       "\n",
       "    .dataframe thead th {\n",
       "        text-align: right;\n",
       "    }\n",
       "</style>\n",
       "<table border=\"1\" class=\"dataframe\">\n",
       "  <thead>\n",
       "    <tr style=\"text-align: right;\">\n",
       "      <th></th>\n",
       "      <th>casual</th>\n",
       "      <th>registered</th>\n",
       "    </tr>\n",
       "  </thead>\n",
       "  <tbody>\n",
       "    <tr>\n",
       "      <th>count</th>\n",
       "      <td>10886.000000</td>\n",
       "      <td>10886.000000</td>\n",
       "    </tr>\n",
       "    <tr>\n",
       "      <th>mean</th>\n",
       "      <td>36.021955</td>\n",
       "      <td>155.552177</td>\n",
       "    </tr>\n",
       "    <tr>\n",
       "      <th>std</th>\n",
       "      <td>49.960477</td>\n",
       "      <td>151.039033</td>\n",
       "    </tr>\n",
       "    <tr>\n",
       "      <th>min</th>\n",
       "      <td>0.000000</td>\n",
       "      <td>0.000000</td>\n",
       "    </tr>\n",
       "    <tr>\n",
       "      <th>25%</th>\n",
       "      <td>4.000000</td>\n",
       "      <td>36.000000</td>\n",
       "    </tr>\n",
       "    <tr>\n",
       "      <th>50%</th>\n",
       "      <td>17.000000</td>\n",
       "      <td>118.000000</td>\n",
       "    </tr>\n",
       "    <tr>\n",
       "      <th>75%</th>\n",
       "      <td>49.000000</td>\n",
       "      <td>222.000000</td>\n",
       "    </tr>\n",
       "    <tr>\n",
       "      <th>max</th>\n",
       "      <td>367.000000</td>\n",
       "      <td>886.000000</td>\n",
       "    </tr>\n",
       "  </tbody>\n",
       "</table>\n",
       "</div>"
      ],
      "text/plain": [
       "             casual    registered\n",
       "count  10886.000000  10886.000000\n",
       "mean      36.021955    155.552177\n",
       "std       49.960477    151.039033\n",
       "min        0.000000      0.000000\n",
       "25%        4.000000     36.000000\n",
       "50%       17.000000    118.000000\n",
       "75%       49.000000    222.000000\n",
       "max      367.000000    886.000000"
      ]
     },
     "execution_count": 6,
     "metadata": {},
     "output_type": "execute_result"
    }
   ],
   "source": [
    "df[['casual','registered']].describe()"
   ]
  },
  {
   "cell_type": "markdown",
   "id": "cd8daee8",
   "metadata": {},
   "source": [
    "### We had found here in the relation between casual and registered users that the registered users is more than casual by two times the casual, the value of reg is 886 and the casual is 367 approximately  "
   ]
  },
  {
   "cell_type": "markdown",
   "id": "fedaf760",
   "metadata": {},
   "source": [
    "##  Season vs Bikes rental"
   ]
  },
  {
   "cell_type": "code",
   "execution_count": 7,
   "id": "af4daf9d",
   "metadata": {},
   "outputs": [
    {
     "data": {
      "text/html": [
       "<div>\n",
       "<style scoped>\n",
       "    .dataframe tbody tr th:only-of-type {\n",
       "        vertical-align: middle;\n",
       "    }\n",
       "\n",
       "    .dataframe tbody tr th {\n",
       "        vertical-align: top;\n",
       "    }\n",
       "\n",
       "    .dataframe thead th {\n",
       "        text-align: right;\n",
       "    }\n",
       "</style>\n",
       "<table border=\"1\" class=\"dataframe\">\n",
       "  <thead>\n",
       "    <tr style=\"text-align: right;\">\n",
       "      <th></th>\n",
       "      <th>datetime</th>\n",
       "      <th>season</th>\n",
       "      <th>holiday</th>\n",
       "      <th>workingday</th>\n",
       "      <th>weather</th>\n",
       "      <th>temp</th>\n",
       "      <th>humidity</th>\n",
       "      <th>windspeed</th>\n",
       "      <th>casual</th>\n",
       "      <th>registered</th>\n",
       "      <th>rented_bikes_count</th>\n",
       "    </tr>\n",
       "  </thead>\n",
       "  <tbody>\n",
       "    <tr>\n",
       "      <th>0</th>\n",
       "      <td>2011-01-01 00:00:00</td>\n",
       "      <td>Spring</td>\n",
       "      <td>0.0</td>\n",
       "      <td>0.0</td>\n",
       "      <td>Clear</td>\n",
       "      <td>9.84</td>\n",
       "      <td>81.0</td>\n",
       "      <td>NaN</td>\n",
       "      <td>3</td>\n",
       "      <td>13</td>\n",
       "      <td>16</td>\n",
       "    </tr>\n",
       "    <tr>\n",
       "      <th>1</th>\n",
       "      <td>2011-01-01 01:00:00</td>\n",
       "      <td>Spring</td>\n",
       "      <td>0.0</td>\n",
       "      <td>0.0</td>\n",
       "      <td>NaN</td>\n",
       "      <td>9.02</td>\n",
       "      <td>80.0</td>\n",
       "      <td>0.0</td>\n",
       "      <td>8</td>\n",
       "      <td>32</td>\n",
       "      <td>40</td>\n",
       "    </tr>\n",
       "  </tbody>\n",
       "</table>\n",
       "</div>"
      ],
      "text/plain": [
       "              datetime  season  holiday  workingday weather  temp  humidity  \\\n",
       "0  2011-01-01 00:00:00  Spring      0.0         0.0   Clear  9.84      81.0   \n",
       "1  2011-01-01 01:00:00  Spring      0.0         0.0     NaN  9.02      80.0   \n",
       "\n",
       "   windspeed  casual  registered  rented_bikes_count  \n",
       "0        NaN       3          13                  16  \n",
       "1        0.0       8          32                  40  "
      ]
     },
     "execution_count": 7,
     "metadata": {},
     "output_type": "execute_result"
    }
   ],
   "source": [
    "df.head(2)"
   ]
  },
  {
   "cell_type": "code",
   "execution_count": 35,
   "id": "296bb996",
   "metadata": {},
   "outputs": [
    {
     "data": {
      "text/plain": [
       "Winter    2688\n",
       "Fall      2680\n",
       "Summer    2670\n",
       "Spring    2634\n",
       "Name: season, dtype: int64"
      ]
     },
     "execution_count": 35,
     "metadata": {},
     "output_type": "execute_result"
    }
   ],
   "source": [
    "df[\"season\"].value_counts()"
   ]
  },
  {
   "cell_type": "code",
   "execution_count": 34,
   "id": "3775167e",
   "metadata": {},
   "outputs": [
    {
     "data": {
      "text/plain": [
       "<AxesSubplot:xlabel='season', ylabel='count'>"
      ]
     },
     "execution_count": 34,
     "metadata": {},
     "output_type": "execute_result"
    },
    {
     "data": {
      "image/png": "[encoded data removed]",
      "text/plain": [
       "<Figure size 432x288 with 1 Axes>"
      ]
     },
     "metadata": {
      "needs_background": "light"
     },
     "output_type": "display_data"
    }
   ],
   "source": [
    "sns.countplot(data= df, x= \"season\")"
   ]
  },
  {
   "cell_type": "code",
   "execution_count": 39,
   "id": "38e495cd",
   "metadata": {},
   "outputs": [
    {
     "data": {
      "text/plain": [
       "<seaborn.axisgrid.FacetGrid at 0x25e451e1a00>"
      ]
     },
     "execution_count": 39,
     "metadata": {},
     "output_type": "execute_result"
    },
    {
     "data": {
      "image/png": "[encoded data removed]",
      "text/plain": [
       "<Figure size 360x360 with 1 Axes>"
      ]
     },
     "metadata": {
      "needs_background": "light"
     },
     "output_type": "display_data"
    }
   ],
   "source": [
    "sns.catplot(data=df, kind=\"bar\", x=\"season\", y=\"rented_bikes_count\")"
   ]
  },
  {
   "cell_type": "markdown",
   "id": "d16e1d57",
   "metadata": {},
   "source": [
    "## As we can see the highest rented bikes lie in season Fall the second one season of Summer and the least one is Spring. We can assume the reason behind this behavior is that the summer and fall seasons provides the most suitable climate for bike riding "
   ]
  },
  {
   "cell_type": "markdown",
   "id": "a7261a6d",
   "metadata": {},
   "source": [
    "## Holiday vs RentedBike "
   ]
  },
  {
   "cell_type": "code",
   "execution_count": 42,
   "id": "91823d53",
   "metadata": {},
   "outputs": [
    {
     "data": {
      "text/plain": [
       "0.0    9738\n",
       "1.0     292\n",
       "Name: holiday, dtype: int64"
      ]
     },
     "execution_count": 42,
     "metadata": {},
     "output_type": "execute_result"
    }
   ],
   "source": [
    "df['holiday'].value_counts()"
   ]
  },
  {
   "cell_type": "code",
   "execution_count": 48,
   "id": "31b88c58",
   "metadata": {},
   "outputs": [
    {
     "data": {
      "text/plain": [
       "<AxesSubplot:xlabel='holiday', ylabel='rented_bikes_count'>"
      ]
     },
     "execution_count": 48,
     "metadata": {},
     "output_type": "execute_result"
    },
    {
     "data": {
      "image/png": "[encoded data removed]",
      "text/plain": [
       "<Figure size 432x288 with 1 Axes>"
      ]
     },
     "metadata": {
      "needs_background": "light"
     },
     "output_type": "display_data"
    }
   ],
   "source": [
    "sns.boxplot(data =df, x= 'holiday', y= 'rented_bikes_count')"
   ]
  },
  {
   "cell_type": "markdown",
   "id": "b93f2f81",
   "metadata": {},
   "source": [
    "## we had seen that the distribution of data in the holidays is less than in working days and there is alots of outliers in the part of holidays, Even though there is no huge difference in no. of bike rentals per hour on a holiday and a normal working day, the average bike rentals is less on holiday, Therefore we can assume that there can be regular bike riders who use the rides to get their work places."
   ]
  },
  {
   "cell_type": "markdown",
   "id": "1ac553a9",
   "metadata": {},
   "source": [
    "## WorkingDay vs RentedBike "
   ]
  },
  {
   "cell_type": "code",
   "execution_count": 50,
   "id": "4ee846b6",
   "metadata": {},
   "outputs": [
    {
     "data": {
      "text/plain": [
       "1.0    6367\n",
       "0.0    3021\n",
       "Name: workingday, dtype: int64"
      ]
     },
     "execution_count": 50,
     "metadata": {},
     "output_type": "execute_result"
    }
   ],
   "source": [
    "df['workingday'].value_counts()"
   ]
  },
  {
   "cell_type": "code",
   "execution_count": 52,
   "id": "de1e74c8",
   "metadata": {},
   "outputs": [
    {
     "data": {
      "text/plain": [
       "<AxesSubplot:xlabel='workingday', ylabel='count'>"
      ]
     },
     "execution_count": 52,
     "metadata": {},
     "output_type": "execute_result"
    },
    {
     "data": {
      "image/png": "[encoded data removed]",
      "text/plain": [
       "<Figure size 432x288 with 1 Axes>"
      ]
     },
     "metadata": {
      "needs_background": "light"
     },
     "output_type": "display_data"
    }
   ],
   "source": [
    "sns.countplot(x= \"workingday\",data= df)"
   ]
  },
  {
   "cell_type": "code",
   "execution_count": 55,
   "id": "41ee8282",
   "metadata": {},
   "outputs": [
    {
     "data": {
      "text/plain": [
       "<AxesSubplot:xlabel='workingday', ylabel='rented_bikes_count'>"
      ]
     },
     "execution_count": 55,
     "metadata": {},
     "output_type": "execute_result"
    },
    {
     "data": {
      "image/png": "[encoded data removed]",
      "text/plain": [
       "<Figure size 432x288 with 1 Axes>"
      ]
     },
     "metadata": {
      "needs_background": "light"
     },
     "output_type": "display_data"
    }
   ],
   "source": [
    "sns.boxplot(x=\"workingday\", y=\"rented_bikes_count\", data=df)"
   ]
  },
  {
   "cell_type": "markdown",
   "id": "3a51f20d",
   "metadata": {},
   "source": [
    "## RentedBike Of Each Season vs WorkingDay "
   ]
  },
  {
   "cell_type": "code",
   "execution_count": 59,
   "id": "9186ea80",
   "metadata": {},
   "outputs": [
    {
     "data": {
      "text/plain": [
       "<AxesSubplot:xlabel='workingday', ylabel='rented_bikes_count'>"
      ]
     },
     "execution_count": 59,
     "metadata": {},
     "output_type": "execute_result"
    },
    {
     "data": {
      "image/png": "[encoded data removed]",
      "text/plain": [
       "<Figure size 432x288 with 1 Axes>"
      ]
     },
     "metadata": {
      "needs_background": "light"
     },
     "output_type": "display_data"
    }
   ],
   "source": [
    "sns.boxplot(y=\"rented_bikes_count\", x=\"workingday\", hue=\"season\",data=df)"
   ]
  },
  {
   "cell_type": "markdown",
   "id": "4c19cc3c",
   "metadata": {},
   "source": [
    "## we had seen from this boxplots that summer and fall doesnot have a clear difference in bike rentals in both of working day and not working. winter and spring shows a higher difference in average of bike rented in working day so we can conclude that people who walk in those season prefer go to work with bike."
   ]
  },
  {
   "cell_type": "markdown",
   "id": "c09c1970",
   "metadata": {},
   "source": [
    "## BikeRented vs Weather "
   ]
  },
  {
   "cell_type": "code",
   "execution_count": 60,
   "id": "6886072b",
   "metadata": {},
   "outputs": [
    {
     "data": {
      "text/plain": [
       "Clear    5793\n",
       "Mist     2259\n",
       "Rainy     693\n",
       "Snowy       1\n",
       "Name: weather, dtype: int64"
      ]
     },
     "execution_count": 60,
     "metadata": {},
     "output_type": "execute_result"
    }
   ],
   "source": [
    "df['weather'].value_counts()"
   ]
  },
  {
   "cell_type": "code",
   "execution_count": 67,
   "id": "3e72f18a",
   "metadata": {},
   "outputs": [
    {
     "data": {
      "text/plain": [
       "<AxesSubplot:xlabel='weather', ylabel='rented_bikes_count'>"
      ]
     },
     "execution_count": 67,
     "metadata": {},
     "output_type": "execute_result"
    },
    {
     "data": {
      "image/png": "[encoded data removed]",
      "text/plain": [
       "<Figure size 432x288 with 1 Axes>"
      ]
     },
     "metadata": {
      "needs_background": "light"
     },
     "output_type": "display_data"
    }
   ],
   "source": [
    "sns.barplot(x=\"weather\", y= \"rented_bikes_count\", data=df)"
   ]
  },
  {
   "cell_type": "markdown",
   "id": "7b6d399c",
   "metadata": {},
   "source": [
    "## we had seen that the Clear is more in rented bike and  then Mist weather come in second place. since the more accidents can be happen in this bad weather so people rarely to ride bikes in rainy and snowy."
   ]
  },
  {
   "cell_type": "markdown",
   "id": "8fa869ec",
   "metadata": {},
   "source": [
    "## BikeRented vs Humidity "
   ]
  },
  {
   "cell_type": "code",
   "execution_count": 73,
   "id": "09c5e10d",
   "metadata": {},
   "outputs": [
    {
     "data": {
      "text/plain": [
       "<seaborn.axisgrid.JointGrid at 0x25e48af89d0>"
      ]
     },
     "execution_count": 73,
     "metadata": {},
     "output_type": "execute_result"
    },
    {
     "data": {
      "image/png": "[encoded data removed]",
      "text/plain": [
       "<Figure size 432x432 with 3 Axes>"
      ]
     },
     "metadata": {
      "needs_background": "light"
     },
     "output_type": "display_data"
    }
   ],
   "source": [
    "sns.jointplot(x=\"humidity\", y=\"rented_bikes_count\", data=df)"
   ]
  },
  {
   "cell_type": "markdown",
   "id": "214e6dfd",
   "metadata": {},
   "source": [
    "## there is no relation between humidity and RentedBike  "
   ]
  },
  {
   "cell_type": "markdown",
   "id": "62498c43",
   "metadata": {},
   "source": [
    "## BikeRented vs WindSpeed "
   ]
  },
  {
   "cell_type": "code",
   "execution_count": 74,
   "id": "131456e4",
   "metadata": {},
   "outputs": [
    {
     "data": {
      "text/plain": [
       "<seaborn.axisgrid.JointGrid at 0x25e4cee6970>"
      ]
     },
     "execution_count": 74,
     "metadata": {},
     "output_type": "execute_result"
    },
    {
     "data": {
      "image/png": "[encoded data removed]",
      "text/plain": [
       "<Figure size 432x432 with 3 Axes>"
      ]
     },
     "metadata": {
      "needs_background": "light"
     },
     "output_type": "display_data"
    }
   ],
   "source": [
    "sns.jointplot(x=\"windspeed\", y=\"rented_bikes_count\", data=df)"
   ]
  },
  {
   "cell_type": "markdown",
   "id": "f47a1e5f",
   "metadata": {},
   "source": [
    "## There is no relation between windspeed and RentedBike "
   ]
  },
  {
   "cell_type": "markdown",
   "id": "d4808a8f",
   "metadata": {},
   "source": [
    "##  Create a new feature for Year, month and day"
   ]
  },
  {
   "cell_type": "code",
   "execution_count": 79,
   "id": "ffd9b746",
   "metadata": {},
   "outputs": [
    {
     "data": {
      "text/html": [
       "<div>\n",
       "<style scoped>\n",
       "    .dataframe tbody tr th:only-of-type {\n",
       "        vertical-align: middle;\n",
       "    }\n",
       "\n",
       "    .dataframe tbody tr th {\n",
       "        vertical-align: top;\n",
       "    }\n",
       "\n",
       "    .dataframe thead th {\n",
       "        text-align: right;\n",
       "    }\n",
       "</style>\n",
       "<table border=\"1\" class=\"dataframe\">\n",
       "  <thead>\n",
       "    <tr style=\"text-align: right;\">\n",
       "      <th></th>\n",
       "      <th>datetime</th>\n",
       "      <th>season</th>\n",
       "      <th>holiday</th>\n",
       "      <th>workingday</th>\n",
       "      <th>weather</th>\n",
       "      <th>temp</th>\n",
       "      <th>humidity</th>\n",
       "      <th>windspeed</th>\n",
       "      <th>casual</th>\n",
       "      <th>registered</th>\n",
       "      <th>rented_bikes_count</th>\n",
       "      <th>Year</th>\n",
       "      <th>month</th>\n",
       "      <th>profit</th>\n",
       "    </tr>\n",
       "  </thead>\n",
       "  <tbody>\n",
       "    <tr>\n",
       "      <th>10883</th>\n",
       "      <td>2012-12-19 21:00:00</td>\n",
       "      <td>NaN</td>\n",
       "      <td>0.0</td>\n",
       "      <td>1.0</td>\n",
       "      <td>Clear</td>\n",
       "      <td>13.94</td>\n",
       "      <td>61.0</td>\n",
       "      <td>15.0013</td>\n",
       "      <td>4</td>\n",
       "      <td>164</td>\n",
       "      <td>168</td>\n",
       "      <td>2012</td>\n",
       "      <td>12</td>\n",
       "      <td>1316.0</td>\n",
       "    </tr>\n",
       "    <tr>\n",
       "      <th>10884</th>\n",
       "      <td>2012-12-19 22:00:00</td>\n",
       "      <td>Winter</td>\n",
       "      <td>NaN</td>\n",
       "      <td>1.0</td>\n",
       "      <td>Clear</td>\n",
       "      <td>13.94</td>\n",
       "      <td>NaN</td>\n",
       "      <td>6.0032</td>\n",
       "      <td>12</td>\n",
       "      <td>117</td>\n",
       "      <td>129</td>\n",
       "      <td>2012</td>\n",
       "      <td>12</td>\n",
       "      <td>1190.0</td>\n",
       "    </tr>\n",
       "    <tr>\n",
       "      <th>10885</th>\n",
       "      <td>2012-12-19 23:00:00</td>\n",
       "      <td>Winter</td>\n",
       "      <td>0.0</td>\n",
       "      <td>1.0</td>\n",
       "      <td>Clear</td>\n",
       "      <td>13.12</td>\n",
       "      <td>66.0</td>\n",
       "      <td>8.9981</td>\n",
       "      <td>4</td>\n",
       "      <td>84</td>\n",
       "      <td>88</td>\n",
       "      <td>2012</td>\n",
       "      <td>12</td>\n",
       "      <td>644.0</td>\n",
       "    </tr>\n",
       "  </tbody>\n",
       "</table>\n",
       "</div>"
      ],
      "text/plain": [
       "                  datetime  season  holiday  workingday weather   temp  \\\n",
       "10883  2012-12-19 21:00:00     NaN      0.0         1.0   Clear  13.94   \n",
       "10884  2012-12-19 22:00:00  Winter      NaN         1.0   Clear  13.94   \n",
       "10885  2012-12-19 23:00:00  Winter      0.0         1.0   Clear  13.12   \n",
       "\n",
       "       humidity  windspeed  casual  registered  rented_bikes_count  Year  \\\n",
       "10883      61.0    15.0013       4         164                 168  2012   \n",
       "10884       NaN     6.0032      12         117                 129  2012   \n",
       "10885      66.0     8.9981       4          84                  88  2012   \n",
       "\n",
       "      month  profit  \n",
       "10883    12  1316.0  \n",
       "10884    12  1190.0  \n",
       "10885    12   644.0  "
      ]
     },
     "execution_count": 79,
     "metadata": {},
     "output_type": "execute_result"
    }
   ],
   "source": [
    "df['Year'] = df['datetime'].apply(lambda y: y.split(\"-\")[-3] )\n",
    "df['month'] = df['datetime'].apply(lambda m: m.split(\"-\")[-2] )\n",
    "df.tail(3)"
   ]
  },
  {
   "cell_type": "markdown",
   "id": "a87d7ef3",
   "metadata": {},
   "source": [
    "## Analysis on all about date "
   ]
  },
  {
   "cell_type": "code",
   "execution_count": 77,
   "id": "d4925f1b",
   "metadata": {},
   "outputs": [
    {
     "data": {
      "text/plain": [
       "2012    5464\n",
       "2011    5422\n",
       "Name: Year, dtype: int64"
      ]
     },
     "execution_count": 77,
     "metadata": {},
     "output_type": "execute_result"
    }
   ],
   "source": [
    "df[\"Year\"].value_counts()"
   ]
  },
  {
   "cell_type": "code",
   "execution_count": 87,
   "id": "71c48e03",
   "metadata": {},
   "outputs": [
    {
     "data": {
      "text/plain": [
       "<AxesSubplot:xlabel='Year', ylabel='count'>"
      ]
     },
     "execution_count": 87,
     "metadata": {},
     "output_type": "execute_result"
    },
    {
     "data": {
      "image/png": "[encoded data removed]",
      "text/plain": [
       "<Figure size 432x288 with 1 Axes>"
      ]
     },
     "metadata": {
      "needs_background": "light"
     },
     "output_type": "display_data"
    }
   ],
   "source": [
    "sns.countplot(x= \"Year\", data=df)"
   ]
  },
  {
   "cell_type": "code",
   "execution_count": 85,
   "id": "22680678",
   "metadata": {},
   "outputs": [
    {
     "data": {
      "text/plain": [
       "07    912\n",
       "06    912\n",
       "08    912\n",
       "12    912\n",
       "05    912\n",
       "11    911\n",
       "10    911\n",
       "09    909\n",
       "04    909\n",
       "03    901\n",
       "02    901\n",
       "01    884\n",
       "Name: month, dtype: int64"
      ]
     },
     "execution_count": 85,
     "metadata": {},
     "output_type": "execute_result"
    }
   ],
   "source": [
    "df[\"month\"].value_counts()"
   ]
  },
  {
   "cell_type": "code",
   "execution_count": 84,
   "id": "3993808f",
   "metadata": {},
   "outputs": [
    {
     "data": {
      "text/plain": [
       "<AxesSubplot:xlabel='month', ylabel='count'>"
      ]
     },
     "execution_count": 84,
     "metadata": {},
     "output_type": "execute_result"
    },
    {
     "data": {
      "image/png": "[encoded data removed]",
      "text/plain": [
       "<Figure size 432x288 with 1 Axes>"
      ]
     },
     "metadata": {
      "needs_background": "light"
     },
     "output_type": "display_data"
    }
   ],
   "source": [
    "sns.countplot(x= \"month\", data=df)"
   ]
  },
  {
   "cell_type": "markdown",
   "id": "e183702c",
   "metadata": {},
   "source": [
    "## We had seen that all of months is approximately equal to each other. "
   ]
  },
  {
   "cell_type": "markdown",
   "id": "ed618dae",
   "metadata": {},
   "source": [
    "##  Add feature for Profit and make analysis with other features"
   ]
  },
  {
   "cell_type": "code",
   "execution_count": 102,
   "id": "16ce04e9",
   "metadata": {},
   "outputs": [],
   "source": [
    "difference= (((df[\"casual\"] * 20) + (df[\"registered\"] * 5))) * 12\n",
    "df['profit'] = (difference - 1400) * 0.14"
   ]
  },
  {
   "cell_type": "code",
   "execution_count": 103,
   "id": "dedd6941",
   "metadata": {},
   "outputs": [
    {
     "data": {
      "text/html": [
       "<div>\n",
       "<style scoped>\n",
       "    .dataframe tbody tr th:only-of-type {\n",
       "        vertical-align: middle;\n",
       "    }\n",
       "\n",
       "    .dataframe tbody tr th {\n",
       "        vertical-align: top;\n",
       "    }\n",
       "\n",
       "    .dataframe thead th {\n",
       "        text-align: right;\n",
       "    }\n",
       "</style>\n",
       "<table border=\"1\" class=\"dataframe\">\n",
       "  <thead>\n",
       "    <tr style=\"text-align: right;\">\n",
       "      <th></th>\n",
       "      <th>datetime</th>\n",
       "      <th>season</th>\n",
       "      <th>holiday</th>\n",
       "      <th>workingday</th>\n",
       "      <th>weather</th>\n",
       "      <th>temp</th>\n",
       "      <th>humidity</th>\n",
       "      <th>windspeed</th>\n",
       "      <th>casual</th>\n",
       "      <th>registered</th>\n",
       "      <th>rented_bikes_count</th>\n",
       "      <th>Year</th>\n",
       "      <th>month</th>\n",
       "      <th>profit</th>\n",
       "    </tr>\n",
       "  </thead>\n",
       "  <tbody>\n",
       "    <tr>\n",
       "      <th>0</th>\n",
       "      <td>2011-01-01 00:00:00</td>\n",
       "      <td>Spring</td>\n",
       "      <td>0.0</td>\n",
       "      <td>0.0</td>\n",
       "      <td>Clear</td>\n",
       "      <td>9.84</td>\n",
       "      <td>81.0</td>\n",
       "      <td>NaN</td>\n",
       "      <td>3</td>\n",
       "      <td>13</td>\n",
       "      <td>16</td>\n",
       "      <td>2011</td>\n",
       "      <td>01</td>\n",
       "      <td>14.0</td>\n",
       "    </tr>\n",
       "    <tr>\n",
       "      <th>1</th>\n",
       "      <td>2011-01-01 01:00:00</td>\n",
       "      <td>Spring</td>\n",
       "      <td>0.0</td>\n",
       "      <td>0.0</td>\n",
       "      <td>NaN</td>\n",
       "      <td>9.02</td>\n",
       "      <td>80.0</td>\n",
       "      <td>0.0</td>\n",
       "      <td>8</td>\n",
       "      <td>32</td>\n",
       "      <td>40</td>\n",
       "      <td>2011</td>\n",
       "      <td>01</td>\n",
       "      <td>341.6</td>\n",
       "    </tr>\n",
       "  </tbody>\n",
       "</table>\n",
       "</div>"
      ],
      "text/plain": [
       "              datetime  season  holiday  workingday weather  temp  humidity  \\\n",
       "0  2011-01-01 00:00:00  Spring      0.0         0.0   Clear  9.84      81.0   \n",
       "1  2011-01-01 01:00:00  Spring      0.0         0.0     NaN  9.02      80.0   \n",
       "\n",
       "   windspeed  casual  registered  rented_bikes_count  Year month  profit  \n",
       "0        NaN       3          13                  16  2011    01    14.0  \n",
       "1        0.0       8          32                  40  2011    01   341.6  "
      ]
     },
     "execution_count": 103,
     "metadata": {},
     "output_type": "execute_result"
    }
   ],
   "source": [
    "df.head(2)"
   ]
  },
  {
   "cell_type": "code",
   "execution_count": 101,
   "id": "d756f30a",
   "metadata": {},
   "outputs": [
    {
     "data": {
      "text/plain": [
       "<AxesSubplot:xlabel='Year', ylabel='profit'>"
      ]
     },
     "execution_count": 101,
     "metadata": {},
     "output_type": "execute_result"
    },
    {
     "data": {
      "image/png": "[encoded data removed]",
      "text/plain": [
       "<Figure size 432x288 with 1 Axes>"
      ]
     },
     "metadata": {
      "needs_background": "light"
     },
     "output_type": "display_data"
    }
   ],
   "source": [
    "sns.barplot(x=\"Year\", y =\"profit\", data=df)"
   ]
  },
  {
   "cell_type": "markdown",
   "id": "e5cd0981",
   "metadata": {},
   "source": [
    "## we see that the profit increase in the year of 2012 "
   ]
  },
  {
   "cell_type": "code",
   "execution_count": 104,
   "id": "ed4fb20b",
   "metadata": {},
   "outputs": [
    {
     "data": {
      "text/plain": [
       "<AxesSubplot:xlabel='month', ylabel='profit'>"
      ]
     },
     "execution_count": 104,
     "metadata": {},
     "output_type": "execute_result"
    },
    {
     "data": {
      "image/png": "[encoded data removed]",
      "text/plain": [
       "<Figure size 432x288 with 1 Axes>"
      ]
     },
     "metadata": {
      "needs_background": "light"
     },
     "output_type": "display_data"
    }
   ],
   "source": [
    "sns.barplot(x=\"month\", y =\"profit\", data=df)"
   ]
  },
  {
   "cell_type": "code",
   "execution_count": 105,
   "id": "5f4fa61b",
   "metadata": {},
   "outputs": [
    {
     "data": {
      "text/plain": [
       "<AxesSubplot:xlabel='season', ylabel='profit'>"
      ]
     },
     "execution_count": 105,
     "metadata": {},
     "output_type": "execute_result"
    },
    {
     "data": {
      "image/png": "[encoded data removed]",
      "text/plain": [
       "<Figure size 432x288 with 1 Axes>"
      ]
     },
     "metadata": {
      "needs_background": "light"
     },
     "output_type": "display_data"
    }
   ],
   "source": [
    "sns.barplot(x=\"season\", y =\"profit\", data=df)"
   ]
  },
  {
   "cell_type": "code",
   "execution_count": null,
   "id": "6565be5a",
   "metadata": {},
   "outputs": [],
   "source": []
  }
 ],
 "metadata": {
  "kernelspec": {
   "display_name": "Python 3",
   "language": "python",
   "name": "python3"
  },
  "language_info": {
   "codemirror_mode": {
    "name": "ipython",
    "version": 3
   },
   "file_extension": ".py",
   "mimetype": "text/x-python",
   "name": "python",
   "nbconvert_exporter": "python",
   "pygments_lexer": "ipython3",
   "version": "3.8.8"
  }
 },
 "nbformat": 4,
 "nbformat_minor": 5
}
