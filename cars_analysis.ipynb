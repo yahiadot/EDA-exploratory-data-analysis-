{
 "cells": [
  {
   "cell_type": "markdown",
   "id": "f877e6d9",
   "metadata": {},
   "source": [
    "## Import the libraries that we will make use of it "
   ]
  },
  {
   "cell_type": "code",
   "execution_count": 2,
   "id": "da9726ab",
   "metadata": {},
   "outputs": [],
   "source": [
    "import numpy as np\n",
    "import pandas as pd\n",
    "import matplotlib.pyplot as plt\n",
    "import seaborn as sns\n",
    "from scipy.stats import pearsonr"
   ]
  },
  {
   "cell_type": "markdown",
   "id": "efc294b8",
   "metadata": {},
   "source": [
    "## Loading the data "
   ]
  },
  {
   "cell_type": "code",
   "execution_count": 3,
   "id": "dc77e142",
   "metadata": {},
   "outputs": [],
   "source": [
    "df = pd.read_csv(\"Cars Data1.csv\")"
   ]
  },
  {
   "cell_type": "code",
   "execution_count": 4,
   "id": "d63e3dac",
   "metadata": {},
   "outputs": [
    {
     "data": {
      "text/html": [
       "<div>\n",
       "<style scoped>\n",
       "    .dataframe tbody tr th:only-of-type {\n",
       "        vertical-align: middle;\n",
       "    }\n",
       "\n",
       "    .dataframe tbody tr th {\n",
       "        vertical-align: top;\n",
       "    }\n",
       "\n",
       "    .dataframe thead th {\n",
       "        text-align: right;\n",
       "    }\n",
       "</style>\n",
       "<table border=\"1\" class=\"dataframe\">\n",
       "  <thead>\n",
       "    <tr style=\"text-align: right;\">\n",
       "      <th></th>\n",
       "      <th>Make</th>\n",
       "      <th>Model</th>\n",
       "      <th>Type</th>\n",
       "      <th>Origin</th>\n",
       "      <th>DriveTrain</th>\n",
       "      <th>MSRP</th>\n",
       "      <th>Invoice</th>\n",
       "      <th>EngineSize</th>\n",
       "      <th>Cylinders</th>\n",
       "      <th>Horsepower</th>\n",
       "      <th>MPG_City</th>\n",
       "      <th>MPG_Highway</th>\n",
       "      <th>Weight</th>\n",
       "      <th>Wheelbase</th>\n",
       "      <th>Length</th>\n",
       "    </tr>\n",
       "  </thead>\n",
       "  <tbody>\n",
       "    <tr>\n",
       "      <th>0</th>\n",
       "      <td>Acura</td>\n",
       "      <td>MDX</td>\n",
       "      <td>SUV</td>\n",
       "      <td>Asia</td>\n",
       "      <td>All</td>\n",
       "      <td>$36,945</td>\n",
       "      <td>$33,337</td>\n",
       "      <td>3.5</td>\n",
       "      <td>6.0</td>\n",
       "      <td>265.0</td>\n",
       "      <td>17.0</td>\n",
       "      <td>23.0</td>\n",
       "      <td>4451.0</td>\n",
       "      <td>106.0</td>\n",
       "      <td>189.0</td>\n",
       "    </tr>\n",
       "    <tr>\n",
       "      <th>1</th>\n",
       "      <td>Acura</td>\n",
       "      <td>RSX Type S 2dr</td>\n",
       "      <td>Sedan</td>\n",
       "      <td>Asia</td>\n",
       "      <td>Front</td>\n",
       "      <td>$23,820</td>\n",
       "      <td>$21,761</td>\n",
       "      <td>2.0</td>\n",
       "      <td>4.0</td>\n",
       "      <td>200.0</td>\n",
       "      <td>24.0</td>\n",
       "      <td>31.0</td>\n",
       "      <td>2778.0</td>\n",
       "      <td>101.0</td>\n",
       "      <td>172.0</td>\n",
       "    </tr>\n",
       "    <tr>\n",
       "      <th>2</th>\n",
       "      <td>Acura</td>\n",
       "      <td>TSX 4dr</td>\n",
       "      <td>Sedan</td>\n",
       "      <td>Asia</td>\n",
       "      <td>Front</td>\n",
       "      <td>$26,990</td>\n",
       "      <td>$24,647</td>\n",
       "      <td>2.4</td>\n",
       "      <td>4.0</td>\n",
       "      <td>200.0</td>\n",
       "      <td>22.0</td>\n",
       "      <td>29.0</td>\n",
       "      <td>3230.0</td>\n",
       "      <td>105.0</td>\n",
       "      <td>183.0</td>\n",
       "    </tr>\n",
       "    <tr>\n",
       "      <th>3</th>\n",
       "      <td>Acura</td>\n",
       "      <td>TL 4dr</td>\n",
       "      <td>Sedan</td>\n",
       "      <td>Asia</td>\n",
       "      <td>Front</td>\n",
       "      <td>$33,195</td>\n",
       "      <td>$30,299</td>\n",
       "      <td>3.2</td>\n",
       "      <td>6.0</td>\n",
       "      <td>270.0</td>\n",
       "      <td>20.0</td>\n",
       "      <td>28.0</td>\n",
       "      <td>3575.0</td>\n",
       "      <td>108.0</td>\n",
       "      <td>186.0</td>\n",
       "    </tr>\n",
       "    <tr>\n",
       "      <th>4</th>\n",
       "      <td>Acura</td>\n",
       "      <td>3.5 RL 4dr</td>\n",
       "      <td>Sedan</td>\n",
       "      <td>Asia</td>\n",
       "      <td>Front</td>\n",
       "      <td>$43,755</td>\n",
       "      <td>$39,014</td>\n",
       "      <td>3.5</td>\n",
       "      <td>6.0</td>\n",
       "      <td>225.0</td>\n",
       "      <td>18.0</td>\n",
       "      <td>24.0</td>\n",
       "      <td>3880.0</td>\n",
       "      <td>115.0</td>\n",
       "      <td>197.0</td>\n",
       "    </tr>\n",
       "  </tbody>\n",
       "</table>\n",
       "</div>"
      ],
      "text/plain": [
       "    Make           Model   Type Origin DriveTrain      MSRP   Invoice  \\\n",
       "0  Acura             MDX    SUV   Asia        All  $36,945   $33,337    \n",
       "1  Acura  RSX Type S 2dr  Sedan   Asia      Front  $23,820   $21,761    \n",
       "2  Acura         TSX 4dr  Sedan   Asia      Front  $26,990   $24,647    \n",
       "3  Acura          TL 4dr  Sedan   Asia      Front  $33,195   $30,299    \n",
       "4  Acura      3.5 RL 4dr  Sedan   Asia      Front  $43,755   $39,014    \n",
       "\n",
       "   EngineSize  Cylinders  Horsepower  MPG_City  MPG_Highway  Weight  \\\n",
       "0         3.5        6.0       265.0      17.0         23.0  4451.0   \n",
       "1         2.0        4.0       200.0      24.0         31.0  2778.0   \n",
       "2         2.4        4.0       200.0      22.0         29.0  3230.0   \n",
       "3         3.2        6.0       270.0      20.0         28.0  3575.0   \n",
       "4         3.5        6.0       225.0      18.0         24.0  3880.0   \n",
       "\n",
       "   Wheelbase  Length  \n",
       "0      106.0   189.0  \n",
       "1      101.0   172.0  \n",
       "2      105.0   183.0  \n",
       "3      108.0   186.0  \n",
       "4      115.0   197.0  "
      ]
     },
     "execution_count": 4,
     "metadata": {},
     "output_type": "execute_result"
    }
   ],
   "source": [
    "df.head()"
   ]
  },
  {
   "cell_type": "code",
   "execution_count": 5,
   "id": "eca877e4",
   "metadata": {},
   "outputs": [
    {
     "data": {
      "text/html": [
       "<div>\n",
       "<style scoped>\n",
       "    .dataframe tbody tr th:only-of-type {\n",
       "        vertical-align: middle;\n",
       "    }\n",
       "\n",
       "    .dataframe tbody tr th {\n",
       "        vertical-align: top;\n",
       "    }\n",
       "\n",
       "    .dataframe thead th {\n",
       "        text-align: right;\n",
       "    }\n",
       "</style>\n",
       "<table border=\"1\" class=\"dataframe\">\n",
       "  <thead>\n",
       "    <tr style=\"text-align: right;\">\n",
       "      <th></th>\n",
       "      <th>EngineSize</th>\n",
       "      <th>Cylinders</th>\n",
       "      <th>Horsepower</th>\n",
       "      <th>MPG_City</th>\n",
       "      <th>MPG_Highway</th>\n",
       "      <th>Weight</th>\n",
       "      <th>Wheelbase</th>\n",
       "      <th>Length</th>\n",
       "    </tr>\n",
       "  </thead>\n",
       "  <tbody>\n",
       "    <tr>\n",
       "      <th>count</th>\n",
       "      <td>428.000000</td>\n",
       "      <td>426.000000</td>\n",
       "      <td>428.000000</td>\n",
       "      <td>428.000000</td>\n",
       "      <td>428.000000</td>\n",
       "      <td>428.000000</td>\n",
       "      <td>428.000000</td>\n",
       "      <td>428.000000</td>\n",
       "    </tr>\n",
       "    <tr>\n",
       "      <th>mean</th>\n",
       "      <td>3.196729</td>\n",
       "      <td>5.807512</td>\n",
       "      <td>215.885514</td>\n",
       "      <td>20.060748</td>\n",
       "      <td>26.843458</td>\n",
       "      <td>3577.953271</td>\n",
       "      <td>108.154206</td>\n",
       "      <td>186.362150</td>\n",
       "    </tr>\n",
       "    <tr>\n",
       "      <th>std</th>\n",
       "      <td>1.108595</td>\n",
       "      <td>1.558443</td>\n",
       "      <td>71.836032</td>\n",
       "      <td>5.238218</td>\n",
       "      <td>5.741201</td>\n",
       "      <td>758.983215</td>\n",
       "      <td>8.311813</td>\n",
       "      <td>14.357991</td>\n",
       "    </tr>\n",
       "    <tr>\n",
       "      <th>min</th>\n",
       "      <td>1.300000</td>\n",
       "      <td>3.000000</td>\n",
       "      <td>73.000000</td>\n",
       "      <td>10.000000</td>\n",
       "      <td>12.000000</td>\n",
       "      <td>1850.000000</td>\n",
       "      <td>89.000000</td>\n",
       "      <td>143.000000</td>\n",
       "    </tr>\n",
       "    <tr>\n",
       "      <th>25%</th>\n",
       "      <td>2.375000</td>\n",
       "      <td>4.000000</td>\n",
       "      <td>165.000000</td>\n",
       "      <td>17.000000</td>\n",
       "      <td>24.000000</td>\n",
       "      <td>3104.000000</td>\n",
       "      <td>103.000000</td>\n",
       "      <td>178.000000</td>\n",
       "    </tr>\n",
       "    <tr>\n",
       "      <th>50%</th>\n",
       "      <td>3.000000</td>\n",
       "      <td>6.000000</td>\n",
       "      <td>210.000000</td>\n",
       "      <td>19.000000</td>\n",
       "      <td>26.000000</td>\n",
       "      <td>3474.500000</td>\n",
       "      <td>107.000000</td>\n",
       "      <td>187.000000</td>\n",
       "    </tr>\n",
       "    <tr>\n",
       "      <th>75%</th>\n",
       "      <td>3.900000</td>\n",
       "      <td>6.000000</td>\n",
       "      <td>255.000000</td>\n",
       "      <td>21.250000</td>\n",
       "      <td>29.000000</td>\n",
       "      <td>3977.750000</td>\n",
       "      <td>112.000000</td>\n",
       "      <td>194.000000</td>\n",
       "    </tr>\n",
       "    <tr>\n",
       "      <th>max</th>\n",
       "      <td>8.300000</td>\n",
       "      <td>12.000000</td>\n",
       "      <td>500.000000</td>\n",
       "      <td>60.000000</td>\n",
       "      <td>66.000000</td>\n",
       "      <td>7190.000000</td>\n",
       "      <td>144.000000</td>\n",
       "      <td>238.000000</td>\n",
       "    </tr>\n",
       "  </tbody>\n",
       "</table>\n",
       "</div>"
      ],
      "text/plain": [
       "       EngineSize   Cylinders  Horsepower    MPG_City  MPG_Highway  \\\n",
       "count  428.000000  426.000000  428.000000  428.000000   428.000000   \n",
       "mean     3.196729    5.807512  215.885514   20.060748    26.843458   \n",
       "std      1.108595    1.558443   71.836032    5.238218     5.741201   \n",
       "min      1.300000    3.000000   73.000000   10.000000    12.000000   \n",
       "25%      2.375000    4.000000  165.000000   17.000000    24.000000   \n",
       "50%      3.000000    6.000000  210.000000   19.000000    26.000000   \n",
       "75%      3.900000    6.000000  255.000000   21.250000    29.000000   \n",
       "max      8.300000   12.000000  500.000000   60.000000    66.000000   \n",
       "\n",
       "            Weight   Wheelbase      Length  \n",
       "count   428.000000  428.000000  428.000000  \n",
       "mean   3577.953271  108.154206  186.362150  \n",
       "std     758.983215    8.311813   14.357991  \n",
       "min    1850.000000   89.000000  143.000000  \n",
       "25%    3104.000000  103.000000  178.000000  \n",
       "50%    3474.500000  107.000000  187.000000  \n",
       "75%    3977.750000  112.000000  194.000000  \n",
       "max    7190.000000  144.000000  238.000000  "
      ]
     },
     "execution_count": 5,
     "metadata": {},
     "output_type": "execute_result"
    }
   ],
   "source": [
    "df.describe()"
   ]
  },
  {
   "cell_type": "markdown",
   "id": "a8f3427b",
   "metadata": {},
   "source": [
    "## Printing some info "
   ]
  },
  {
   "cell_type": "code",
   "execution_count": 6,
   "id": "063f5032",
   "metadata": {},
   "outputs": [
    {
     "name": "stdout",
     "output_type": "stream",
     "text": [
      "<class 'pandas.core.frame.DataFrame'>\n",
      "RangeIndex: 432 entries, 0 to 431\n",
      "Data columns (total 15 columns):\n",
      " #   Column       Non-Null Count  Dtype  \n",
      "---  ------       --------------  -----  \n",
      " 0   Make         428 non-null    object \n",
      " 1   Model        428 non-null    object \n",
      " 2   Type         428 non-null    object \n",
      " 3   Origin       428 non-null    object \n",
      " 4   DriveTrain   428 non-null    object \n",
      " 5   MSRP         428 non-null    object \n",
      " 6   Invoice      428 non-null    object \n",
      " 7   EngineSize   428 non-null    float64\n",
      " 8   Cylinders    426 non-null    float64\n",
      " 9   Horsepower   428 non-null    float64\n",
      " 10  MPG_City     428 non-null    float64\n",
      " 11  MPG_Highway  428 non-null    float64\n",
      " 12  Weight       428 non-null    float64\n",
      " 13  Wheelbase    428 non-null    float64\n",
      " 14  Length       428 non-null    float64\n",
      "dtypes: float64(8), object(7)\n",
      "memory usage: 50.8+ KB\n"
     ]
    }
   ],
   "source": [
    "df.info()"
   ]
  },
  {
   "cell_type": "code",
   "execution_count": null,
   "id": "899278fc",
   "metadata": {},
   "outputs": [],
   "source": []
  },
  {
   "cell_type": "code",
   "execution_count": null,
   "id": "578054c2",
   "metadata": {},
   "outputs": [],
   "source": []
  },
  {
   "cell_type": "markdown",
   "id": "1cdb762d",
   "metadata": {},
   "source": [
    "## Print every unique value in Make "
   ]
  },
  {
   "cell_type": "code",
   "execution_count": 53,
   "id": "73cb8185",
   "metadata": {},
   "outputs": [
    {
     "data": {
      "text/plain": [
       "Toyota           28\n",
       "Chevrolet        27\n",
       "Mercedes-Benz    26\n",
       "Ford             23\n",
       "BMW              20\n",
       "Name: Make, dtype: int64"
      ]
     },
     "execution_count": 53,
     "metadata": {},
     "output_type": "execute_result"
    }
   ],
   "source": [
    "df[\"Make\"].value_counts().head()"
   ]
  },
  {
   "cell_type": "code",
   "execution_count": 68,
   "id": "1ca8034e",
   "metadata": {},
   "outputs": [
    {
     "data": {
      "text/plain": [
       "Land Rover    3\n",
       "Isuzu         2\n",
       "Scion         2\n",
       "MINI          2\n",
       "Hummer        1\n",
       "Name: Make, dtype: int64"
      ]
     },
     "execution_count": 68,
     "metadata": {},
     "output_type": "execute_result"
    }
   ],
   "source": [
    "df[\"Make\"].value_counts().tail()"
   ]
  },
  {
   "cell_type": "markdown",
   "id": "25e7f2f9",
   "metadata": {},
   "source": [
    "## We had seen that the first five cars sale is as we see in the above but the first one is Toyota and the less one is Hummer. "
   ]
  },
  {
   "cell_type": "markdown",
   "id": "1118d121",
   "metadata": {},
   "source": [
    "## Model Feature "
   ]
  },
  {
   "cell_type": "code",
   "execution_count": 65,
   "id": "cb3ec586",
   "metadata": {},
   "outputs": [
    {
     "data": {
      "text/plain": [
       "428"
      ]
     },
     "execution_count": 65,
     "metadata": {},
     "output_type": "execute_result"
    }
   ],
   "source": [
    "df[\"Model\"].value_counts()"
   ]
  },
  {
   "cell_type": "markdown",
   "id": "85aa1ce8",
   "metadata": {},
   "source": []
  },
  {
   "cell_type": "markdown",
   "id": "83bf5003",
   "metadata": {},
   "source": [
    "## Find the value of each origin"
   ]
  },
  {
   "cell_type": "code",
   "execution_count": 73,
   "id": "975e5787",
   "metadata": {},
   "outputs": [
    {
     "data": {
      "text/plain": [
       "Asia      158\n",
       "USA       147\n",
       "Europe    123\n",
       "Name: Origin, dtype: int64"
      ]
     },
     "execution_count": 73,
     "metadata": {},
     "output_type": "execute_result"
    }
   ],
   "source": [
    "df['Origin'].value_counts()"
   ]
  },
  {
   "cell_type": "code",
   "execution_count": 72,
   "id": "ff2e79c0",
   "metadata": {},
   "outputs": [
    {
     "data": {
      "text/plain": [
       "<AxesSubplot:xlabel='Origin', ylabel='count'>"
      ]
     },
     "execution_count": 72,
     "metadata": {},
     "output_type": "execute_result"
    },
    {
     "data": {
      "image/png": "[encoded data removed]",
      "text/plain": [
       "<Figure size 432x288 with 1 Axes>"
      ]
     },
     "metadata": {
      "needs_background": "light"
     },
     "output_type": "display_data"
    }
   ],
   "source": [
    "sns.countplot(x=\"Origin\", data=df)"
   ]
  },
  {
   "cell_type": "markdown",
   "id": "3a4aa248",
   "metadata": {},
   "source": [
    "## We see that the most common origin of productions is Asia and then USA. the least one is Europe "
   ]
  },
  {
   "cell_type": "code",
   "execution_count": 74,
   "id": "cca2e59e",
   "metadata": {},
   "outputs": [
    {
     "data": {
      "text/html": [
       "<div>\n",
       "<style scoped>\n",
       "    .dataframe tbody tr th:only-of-type {\n",
       "        vertical-align: middle;\n",
       "    }\n",
       "\n",
       "    .dataframe tbody tr th {\n",
       "        vertical-align: top;\n",
       "    }\n",
       "\n",
       "    .dataframe thead th {\n",
       "        text-align: right;\n",
       "    }\n",
       "</style>\n",
       "<table border=\"1\" class=\"dataframe\">\n",
       "  <thead>\n",
       "    <tr style=\"text-align: right;\">\n",
       "      <th></th>\n",
       "      <th>Make</th>\n",
       "      <th>Acura</th>\n",
       "      <th>Audi</th>\n",
       "      <th>BMW</th>\n",
       "      <th>Buick</th>\n",
       "      <th>Cadillac</th>\n",
       "      <th>Chevrolet</th>\n",
       "      <th>Chrysler</th>\n",
       "      <th>Dodge</th>\n",
       "      <th>Ford</th>\n",
       "      <th>GMC</th>\n",
       "      <th>...</th>\n",
       "      <th>Pontiac</th>\n",
       "      <th>Porsche</th>\n",
       "      <th>Saab</th>\n",
       "      <th>Saturn</th>\n",
       "      <th>Scion</th>\n",
       "      <th>Subaru</th>\n",
       "      <th>Suzuki</th>\n",
       "      <th>Toyota</th>\n",
       "      <th>Volkswagen</th>\n",
       "      <th>Volvo</th>\n",
       "    </tr>\n",
       "  </thead>\n",
       "  <tbody>\n",
       "    <tr>\n",
       "      <th rowspan=\"5\" valign=\"top\">EngineSize</th>\n",
       "      <th>count</th>\n",
       "      <td>7.000000</td>\n",
       "      <td>19.000000</td>\n",
       "      <td>20.000000</td>\n",
       "      <td>9.000000</td>\n",
       "      <td>8.000000</td>\n",
       "      <td>27.000000</td>\n",
       "      <td>15.000000</td>\n",
       "      <td>13.000000</td>\n",
       "      <td>23.000000</td>\n",
       "      <td>8.00000</td>\n",
       "      <td>...</td>\n",
       "      <td>11.000000</td>\n",
       "      <td>7.000000</td>\n",
       "      <td>7.000000</td>\n",
       "      <td>8.000000</td>\n",
       "      <td>2.00</td>\n",
       "      <td>11.000000</td>\n",
       "      <td>8.000000</td>\n",
       "      <td>28.000000</td>\n",
       "      <td>15.000000</td>\n",
       "      <td>12.000000</td>\n",
       "    </tr>\n",
       "    <tr>\n",
       "      <th>mean</th>\n",
       "      <td>3.042857</td>\n",
       "      <td>3.057895</td>\n",
       "      <td>3.125000</td>\n",
       "      <td>3.722222</td>\n",
       "      <td>4.737500</td>\n",
       "      <td>3.733333</td>\n",
       "      <td>2.960000</td>\n",
       "      <td>3.484615</td>\n",
       "      <td>3.552174</td>\n",
       "      <td>4.65000</td>\n",
       "      <td>...</td>\n",
       "      <td>3.427273</td>\n",
       "      <td>3.542857</td>\n",
       "      <td>2.128571</td>\n",
       "      <td>2.300000</td>\n",
       "      <td>1.50</td>\n",
       "      <td>2.545455</td>\n",
       "      <td>2.325000</td>\n",
       "      <td>2.682143</td>\n",
       "      <td>2.806667</td>\n",
       "      <td>2.458333</td>\n",
       "    </tr>\n",
       "    <tr>\n",
       "      <th>std</th>\n",
       "      <td>0.602376</td>\n",
       "      <td>0.850696</td>\n",
       "      <td>0.701783</td>\n",
       "      <td>0.307318</td>\n",
       "      <td>0.686477</td>\n",
       "      <td>1.315002</td>\n",
       "      <td>0.522084</td>\n",
       "      <td>1.669754</td>\n",
       "      <td>1.319390</td>\n",
       "      <td>1.03923</td>\n",
       "      <td>...</td>\n",
       "      <td>1.117221</td>\n",
       "      <td>0.541163</td>\n",
       "      <td>0.160357</td>\n",
       "      <td>0.282843</td>\n",
       "      <td>0.00</td>\n",
       "      <td>0.269680</td>\n",
       "      <td>0.243487</td>\n",
       "      <td>0.938894</td>\n",
       "      <td>1.252692</td>\n",
       "      <td>0.339675</td>\n",
       "    </tr>\n",
       "    <tr>\n",
       "      <th>min</th>\n",
       "      <td>2.000000</td>\n",
       "      <td>1.800000</td>\n",
       "      <td>2.500000</td>\n",
       "      <td>3.100000</td>\n",
       "      <td>3.600000</td>\n",
       "      <td>1.600000</td>\n",
       "      <td>2.400000</td>\n",
       "      <td>2.000000</td>\n",
       "      <td>2.000000</td>\n",
       "      <td>2.80000</td>\n",
       "      <td>...</td>\n",
       "      <td>1.800000</td>\n",
       "      <td>2.700000</td>\n",
       "      <td>2.000000</td>\n",
       "      <td>2.200000</td>\n",
       "      <td>1.50</td>\n",
       "      <td>2.000000</td>\n",
       "      <td>2.000000</td>\n",
       "      <td>1.500000</td>\n",
       "      <td>1.800000</td>\n",
       "      <td>1.900000</td>\n",
       "    </tr>\n",
       "    <tr>\n",
       "      <th>25%</th>\n",
       "      <td>2.800000</td>\n",
       "      <td>2.850000</td>\n",
       "      <td>2.500000</td>\n",
       "      <td>3.800000</td>\n",
       "      <td>4.600000</td>\n",
       "      <td>2.650000</td>\n",
       "      <td>2.400000</td>\n",
       "      <td>2.400000</td>\n",
       "      <td>2.150000</td>\n",
       "      <td>4.27500</td>\n",
       "      <td>...</td>\n",
       "      <td>2.800000</td>\n",
       "      <td>3.400000</td>\n",
       "      <td>2.000000</td>\n",
       "      <td>2.200000</td>\n",
       "      <td>1.50</td>\n",
       "      <td>2.500000</td>\n",
       "      <td>2.225000</td>\n",
       "      <td>1.800000</td>\n",
       "      <td>1.850000</td>\n",
       "      <td>2.300000</td>\n",
       "    </tr>\n",
       "    <tr>\n",
       "      <th>...</th>\n",
       "      <th>...</th>\n",
       "      <td>...</td>\n",
       "      <td>...</td>\n",
       "      <td>...</td>\n",
       "      <td>...</td>\n",
       "      <td>...</td>\n",
       "      <td>...</td>\n",
       "      <td>...</td>\n",
       "      <td>...</td>\n",
       "      <td>...</td>\n",
       "      <td>...</td>\n",
       "      <td>...</td>\n",
       "      <td>...</td>\n",
       "      <td>...</td>\n",
       "      <td>...</td>\n",
       "      <td>...</td>\n",
       "      <td>...</td>\n",
       "      <td>...</td>\n",
       "      <td>...</td>\n",
       "      <td>...</td>\n",
       "      <td>...</td>\n",
       "      <td>...</td>\n",
       "    </tr>\n",
       "    <tr>\n",
       "      <th rowspan=\"5\" valign=\"top\">Length</th>\n",
       "      <th>min</th>\n",
       "      <td>172.000000</td>\n",
       "      <td>159.000000</td>\n",
       "      <td>161.000000</td>\n",
       "      <td>187.000000</td>\n",
       "      <td>178.000000</td>\n",
       "      <td>153.000000</td>\n",
       "      <td>160.000000</td>\n",
       "      <td>174.000000</td>\n",
       "      <td>168.000000</td>\n",
       "      <td>190.00000</td>\n",
       "      <td>...</td>\n",
       "      <td>172.000000</td>\n",
       "      <td>170.000000</td>\n",
       "      <td>182.000000</td>\n",
       "      <td>181.000000</td>\n",
       "      <td>154.00</td>\n",
       "      <td>174.000000</td>\n",
       "      <td>163.000000</td>\n",
       "      <td>153.000000</td>\n",
       "      <td>161.000000</td>\n",
       "      <td>178.000000</td>\n",
       "    </tr>\n",
       "    <tr>\n",
       "      <th>25%</th>\n",
       "      <td>178.500000</td>\n",
       "      <td>179.000000</td>\n",
       "      <td>176.000000</td>\n",
       "      <td>195.000000</td>\n",
       "      <td>193.750000</td>\n",
       "      <td>183.000000</td>\n",
       "      <td>180.000000</td>\n",
       "      <td>189.000000</td>\n",
       "      <td>175.500000</td>\n",
       "      <td>197.25000</td>\n",
       "      <td>...</td>\n",
       "      <td>182.000000</td>\n",
       "      <td>172.500000</td>\n",
       "      <td>182.500000</td>\n",
       "      <td>185.000000</td>\n",
       "      <td>154.25</td>\n",
       "      <td>174.500000</td>\n",
       "      <td>170.000000</td>\n",
       "      <td>174.000000</td>\n",
       "      <td>170.000000</td>\n",
       "      <td>180.000000</td>\n",
       "    </tr>\n",
       "    <tr>\n",
       "      <th>50%</th>\n",
       "      <td>186.000000</td>\n",
       "      <td>180.000000</td>\n",
       "      <td>177.000000</td>\n",
       "      <td>196.000000</td>\n",
       "      <td>200.000000</td>\n",
       "      <td>190.000000</td>\n",
       "      <td>194.000000</td>\n",
       "      <td>193.000000</td>\n",
       "      <td>190.000000</td>\n",
       "      <td>208.00000</td>\n",
       "      <td>...</td>\n",
       "      <td>187.000000</td>\n",
       "      <td>175.000000</td>\n",
       "      <td>183.000000</td>\n",
       "      <td>185.000000</td>\n",
       "      <td>154.50</td>\n",
       "      <td>184.000000</td>\n",
       "      <td>174.000000</td>\n",
       "      <td>189.000000</td>\n",
       "      <td>184.000000</td>\n",
       "      <td>186.000000</td>\n",
       "    </tr>\n",
       "    <tr>\n",
       "      <th>75%</th>\n",
       "      <td>193.000000</td>\n",
       "      <td>192.000000</td>\n",
       "      <td>185.750000</td>\n",
       "      <td>200.000000</td>\n",
       "      <td>207.000000</td>\n",
       "      <td>199.000000</td>\n",
       "      <td>200.000000</td>\n",
       "      <td>204.000000</td>\n",
       "      <td>208.500000</td>\n",
       "      <td>219.75000</td>\n",
       "      <td>...</td>\n",
       "      <td>198.000000</td>\n",
       "      <td>175.000000</td>\n",
       "      <td>190.000000</td>\n",
       "      <td>186.250000</td>\n",
       "      <td>154.75</td>\n",
       "      <td>184.000000</td>\n",
       "      <td>179.500000</td>\n",
       "      <td>193.000000</td>\n",
       "      <td>185.000000</td>\n",
       "      <td>189.250000</td>\n",
       "    </tr>\n",
       "    <tr>\n",
       "      <th>max</th>\n",
       "      <td>197.000000</td>\n",
       "      <td>204.000000</td>\n",
       "      <td>204.000000</td>\n",
       "      <td>207.000000</td>\n",
       "      <td>221.000000</td>\n",
       "      <td>238.000000</td>\n",
       "      <td>208.000000</td>\n",
       "      <td>219.000000</td>\n",
       "      <td>227.000000</td>\n",
       "      <td>230.00000</td>\n",
       "      <td>...</td>\n",
       "      <td>203.000000</td>\n",
       "      <td>188.000000</td>\n",
       "      <td>190.000000</td>\n",
       "      <td>190.000000</td>\n",
       "      <td>155.00</td>\n",
       "      <td>193.000000</td>\n",
       "      <td>188.000000</td>\n",
       "      <td>218.000000</td>\n",
       "      <td>204.000000</td>\n",
       "      <td>190.000000</td>\n",
       "    </tr>\n",
       "  </tbody>\n",
       "</table>\n",
       "<p>64 rows × 38 columns</p>\n",
       "</div>"
      ],
      "text/plain": [
       "Make                   Acura        Audi         BMW       Buick    Cadillac  \\\n",
       "EngineSize count    7.000000   19.000000   20.000000    9.000000    8.000000   \n",
       "           mean     3.042857    3.057895    3.125000    3.722222    4.737500   \n",
       "           std      0.602376    0.850696    0.701783    0.307318    0.686477   \n",
       "           min      2.000000    1.800000    2.500000    3.100000    3.600000   \n",
       "           25%      2.800000    2.850000    2.500000    3.800000    4.600000   \n",
       "...                      ...         ...         ...         ...         ...   \n",
       "Length     min    172.000000  159.000000  161.000000  187.000000  178.000000   \n",
       "           25%    178.500000  179.000000  176.000000  195.000000  193.750000   \n",
       "           50%    186.000000  180.000000  177.000000  196.000000  200.000000   \n",
       "           75%    193.000000  192.000000  185.750000  200.000000  207.000000   \n",
       "           max    197.000000  204.000000  204.000000  207.000000  221.000000   \n",
       "\n",
       "Make               Chevrolet    Chrysler       Dodge        Ford        GMC  \\\n",
       "EngineSize count   27.000000   15.000000   13.000000   23.000000    8.00000   \n",
       "           mean     3.733333    2.960000    3.484615    3.552174    4.65000   \n",
       "           std      1.315002    0.522084    1.669754    1.319390    1.03923   \n",
       "           min      1.600000    2.400000    2.000000    2.000000    2.80000   \n",
       "           25%      2.650000    2.400000    2.400000    2.150000    4.27500   \n",
       "...                      ...         ...         ...         ...        ...   \n",
       "Length     min    153.000000  160.000000  174.000000  168.000000  190.00000   \n",
       "           25%    183.000000  180.000000  189.000000  175.500000  197.25000   \n",
       "           50%    190.000000  194.000000  193.000000  190.000000  208.00000   \n",
       "           75%    199.000000  200.000000  204.000000  208.500000  219.75000   \n",
       "           max    238.000000  208.000000  219.000000  227.000000  230.00000   \n",
       "\n",
       "Make              ...     Pontiac     Porsche        Saab      Saturn   Scion  \\\n",
       "EngineSize count  ...   11.000000    7.000000    7.000000    8.000000    2.00   \n",
       "           mean   ...    3.427273    3.542857    2.128571    2.300000    1.50   \n",
       "           std    ...    1.117221    0.541163    0.160357    0.282843    0.00   \n",
       "           min    ...    1.800000    2.700000    2.000000    2.200000    1.50   \n",
       "           25%    ...    2.800000    3.400000    2.000000    2.200000    1.50   \n",
       "...               ...         ...         ...         ...         ...     ...   \n",
       "Length     min    ...  172.000000  170.000000  182.000000  181.000000  154.00   \n",
       "           25%    ...  182.000000  172.500000  182.500000  185.000000  154.25   \n",
       "           50%    ...  187.000000  175.000000  183.000000  185.000000  154.50   \n",
       "           75%    ...  198.000000  175.000000  190.000000  186.250000  154.75   \n",
       "           max    ...  203.000000  188.000000  190.000000  190.000000  155.00   \n",
       "\n",
       "Make                  Subaru      Suzuki      Toyota  Volkswagen       Volvo  \n",
       "EngineSize count   11.000000    8.000000   28.000000   15.000000   12.000000  \n",
       "           mean     2.545455    2.325000    2.682143    2.806667    2.458333  \n",
       "           std      0.269680    0.243487    0.938894    1.252692    0.339675  \n",
       "           min      2.000000    2.000000    1.500000    1.800000    1.900000  \n",
       "           25%      2.500000    2.225000    1.800000    1.850000    2.300000  \n",
       "...                      ...         ...         ...         ...         ...  \n",
       "Length     min    174.000000  163.000000  153.000000  161.000000  178.000000  \n",
       "           25%    174.500000  170.000000  174.000000  170.000000  180.000000  \n",
       "           50%    184.000000  174.000000  189.000000  184.000000  186.000000  \n",
       "           75%    184.000000  179.500000  193.000000  185.000000  189.250000  \n",
       "           max    193.000000  188.000000  218.000000  204.000000  190.000000  \n",
       "\n",
       "[64 rows x 38 columns]"
      ]
     },
     "execution_count": 74,
     "metadata": {},
     "output_type": "execute_result"
    }
   ],
   "source": [
    "df.groupby('Make').describe().transpose()"
   ]
  },
  {
   "cell_type": "code",
   "execution_count": 75,
   "id": "8b0ee607",
   "metadata": {},
   "outputs": [
    {
     "data": {
      "text/html": [
       "<div>\n",
       "<style scoped>\n",
       "    .dataframe tbody tr th:only-of-type {\n",
       "        vertical-align: middle;\n",
       "    }\n",
       "\n",
       "    .dataframe tbody tr th {\n",
       "        vertical-align: top;\n",
       "    }\n",
       "\n",
       "    .dataframe thead th {\n",
       "        text-align: right;\n",
       "    }\n",
       "</style>\n",
       "<table border=\"1\" class=\"dataframe\">\n",
       "  <thead>\n",
       "    <tr style=\"text-align: right;\">\n",
       "      <th></th>\n",
       "      <th>Model</th>\n",
       "      <th>3.5 RL 4dr</th>\n",
       "      <th>3.5 RL w/Navigation 4dr</th>\n",
       "      <th>300M 4dr</th>\n",
       "      <th>300M Special Edition 4dr</th>\n",
       "      <th>325Ci 2dr</th>\n",
       "      <th>325Ci convertible 2dr</th>\n",
       "      <th>325i 4dr</th>\n",
       "      <th>325xi 4dr</th>\n",
       "      <th>325xi Sport</th>\n",
       "      <th>330Ci 2dr</th>\n",
       "      <th>...</th>\n",
       "      <th>Yukon 1500 SLE</th>\n",
       "      <th>Yukon XL 2500 SLT</th>\n",
       "      <th>Z4 convertible 2.5i 2dr</th>\n",
       "      <th>Z4 convertible 3.0i 2dr</th>\n",
       "      <th>lon2 4dr</th>\n",
       "      <th>lon2 quad coupe 2dr</th>\n",
       "      <th>lon3 4dr</th>\n",
       "      <th>lon3 quad coupe 2dr</th>\n",
       "      <th>xA 4dr hatch</th>\n",
       "      <th>xB</th>\n",
       "    </tr>\n",
       "  </thead>\n",
       "  <tbody>\n",
       "    <tr>\n",
       "      <th rowspan=\"5\" valign=\"top\">EngineSize</th>\n",
       "      <th>count</th>\n",
       "      <td>1.0</td>\n",
       "      <td>1.0</td>\n",
       "      <td>1.0</td>\n",
       "      <td>1.0</td>\n",
       "      <td>1.0</td>\n",
       "      <td>1.0</td>\n",
       "      <td>1.0</td>\n",
       "      <td>1.0</td>\n",
       "      <td>1.0</td>\n",
       "      <td>1.0</td>\n",
       "      <td>...</td>\n",
       "      <td>1.0</td>\n",
       "      <td>1.0</td>\n",
       "      <td>1.0</td>\n",
       "      <td>1.0</td>\n",
       "      <td>1.0</td>\n",
       "      <td>1.0</td>\n",
       "      <td>1.0</td>\n",
       "      <td>1.0</td>\n",
       "      <td>1.0</td>\n",
       "      <td>1.0</td>\n",
       "    </tr>\n",
       "    <tr>\n",
       "      <th>mean</th>\n",
       "      <td>3.5</td>\n",
       "      <td>3.5</td>\n",
       "      <td>3.5</td>\n",
       "      <td>3.5</td>\n",
       "      <td>2.5</td>\n",
       "      <td>2.5</td>\n",
       "      <td>2.5</td>\n",
       "      <td>2.5</td>\n",
       "      <td>2.5</td>\n",
       "      <td>3.0</td>\n",
       "      <td>...</td>\n",
       "      <td>4.8</td>\n",
       "      <td>6.0</td>\n",
       "      <td>2.5</td>\n",
       "      <td>3.0</td>\n",
       "      <td>2.2</td>\n",
       "      <td>2.2</td>\n",
       "      <td>2.2</td>\n",
       "      <td>2.2</td>\n",
       "      <td>1.5</td>\n",
       "      <td>1.5</td>\n",
       "    </tr>\n",
       "    <tr>\n",
       "      <th>std</th>\n",
       "      <td>NaN</td>\n",
       "      <td>NaN</td>\n",
       "      <td>NaN</td>\n",
       "      <td>NaN</td>\n",
       "      <td>NaN</td>\n",
       "      <td>NaN</td>\n",
       "      <td>NaN</td>\n",
       "      <td>NaN</td>\n",
       "      <td>NaN</td>\n",
       "      <td>NaN</td>\n",
       "      <td>...</td>\n",
       "      <td>NaN</td>\n",
       "      <td>NaN</td>\n",
       "      <td>NaN</td>\n",
       "      <td>NaN</td>\n",
       "      <td>NaN</td>\n",
       "      <td>NaN</td>\n",
       "      <td>NaN</td>\n",
       "      <td>NaN</td>\n",
       "      <td>NaN</td>\n",
       "      <td>NaN</td>\n",
       "    </tr>\n",
       "    <tr>\n",
       "      <th>min</th>\n",
       "      <td>3.5</td>\n",
       "      <td>3.5</td>\n",
       "      <td>3.5</td>\n",
       "      <td>3.5</td>\n",
       "      <td>2.5</td>\n",
       "      <td>2.5</td>\n",
       "      <td>2.5</td>\n",
       "      <td>2.5</td>\n",
       "      <td>2.5</td>\n",
       "      <td>3.0</td>\n",
       "      <td>...</td>\n",
       "      <td>4.8</td>\n",
       "      <td>6.0</td>\n",
       "      <td>2.5</td>\n",
       "      <td>3.0</td>\n",
       "      <td>2.2</td>\n",
       "      <td>2.2</td>\n",
       "      <td>2.2</td>\n",
       "      <td>2.2</td>\n",
       "      <td>1.5</td>\n",
       "      <td>1.5</td>\n",
       "    </tr>\n",
       "    <tr>\n",
       "      <th>25%</th>\n",
       "      <td>3.5</td>\n",
       "      <td>3.5</td>\n",
       "      <td>3.5</td>\n",
       "      <td>3.5</td>\n",
       "      <td>2.5</td>\n",
       "      <td>2.5</td>\n",
       "      <td>2.5</td>\n",
       "      <td>2.5</td>\n",
       "      <td>2.5</td>\n",
       "      <td>3.0</td>\n",
       "      <td>...</td>\n",
       "      <td>4.8</td>\n",
       "      <td>6.0</td>\n",
       "      <td>2.5</td>\n",
       "      <td>3.0</td>\n",
       "      <td>2.2</td>\n",
       "      <td>2.2</td>\n",
       "      <td>2.2</td>\n",
       "      <td>2.2</td>\n",
       "      <td>1.5</td>\n",
       "      <td>1.5</td>\n",
       "    </tr>\n",
       "    <tr>\n",
       "      <th>...</th>\n",
       "      <th>...</th>\n",
       "      <td>...</td>\n",
       "      <td>...</td>\n",
       "      <td>...</td>\n",
       "      <td>...</td>\n",
       "      <td>...</td>\n",
       "      <td>...</td>\n",
       "      <td>...</td>\n",
       "      <td>...</td>\n",
       "      <td>...</td>\n",
       "      <td>...</td>\n",
       "      <td>...</td>\n",
       "      <td>...</td>\n",
       "      <td>...</td>\n",
       "      <td>...</td>\n",
       "      <td>...</td>\n",
       "      <td>...</td>\n",
       "      <td>...</td>\n",
       "      <td>...</td>\n",
       "      <td>...</td>\n",
       "      <td>...</td>\n",
       "      <td>...</td>\n",
       "    </tr>\n",
       "    <tr>\n",
       "      <th rowspan=\"5\" valign=\"top\">Length</th>\n",
       "      <th>min</th>\n",
       "      <td>197.0</td>\n",
       "      <td>197.0</td>\n",
       "      <td>198.0</td>\n",
       "      <td>198.0</td>\n",
       "      <td>177.0</td>\n",
       "      <td>177.0</td>\n",
       "      <td>176.0</td>\n",
       "      <td>176.0</td>\n",
       "      <td>176.0</td>\n",
       "      <td>176.0</td>\n",
       "      <td>...</td>\n",
       "      <td>199.0</td>\n",
       "      <td>219.0</td>\n",
       "      <td>161.0</td>\n",
       "      <td>161.0</td>\n",
       "      <td>185.0</td>\n",
       "      <td>185.0</td>\n",
       "      <td>185.0</td>\n",
       "      <td>185.0</td>\n",
       "      <td>154.0</td>\n",
       "      <td>155.0</td>\n",
       "    </tr>\n",
       "    <tr>\n",
       "      <th>25%</th>\n",
       "      <td>197.0</td>\n",
       "      <td>197.0</td>\n",
       "      <td>198.0</td>\n",
       "      <td>198.0</td>\n",
       "      <td>177.0</td>\n",
       "      <td>177.0</td>\n",
       "      <td>176.0</td>\n",
       "      <td>176.0</td>\n",
       "      <td>176.0</td>\n",
       "      <td>176.0</td>\n",
       "      <td>...</td>\n",
       "      <td>199.0</td>\n",
       "      <td>219.0</td>\n",
       "      <td>161.0</td>\n",
       "      <td>161.0</td>\n",
       "      <td>185.0</td>\n",
       "      <td>185.0</td>\n",
       "      <td>185.0</td>\n",
       "      <td>185.0</td>\n",
       "      <td>154.0</td>\n",
       "      <td>155.0</td>\n",
       "    </tr>\n",
       "    <tr>\n",
       "      <th>50%</th>\n",
       "      <td>197.0</td>\n",
       "      <td>197.0</td>\n",
       "      <td>198.0</td>\n",
       "      <td>198.0</td>\n",
       "      <td>177.0</td>\n",
       "      <td>177.0</td>\n",
       "      <td>176.0</td>\n",
       "      <td>176.0</td>\n",
       "      <td>176.0</td>\n",
       "      <td>176.0</td>\n",
       "      <td>...</td>\n",
       "      <td>199.0</td>\n",
       "      <td>219.0</td>\n",
       "      <td>161.0</td>\n",
       "      <td>161.0</td>\n",
       "      <td>185.0</td>\n",
       "      <td>185.0</td>\n",
       "      <td>185.0</td>\n",
       "      <td>185.0</td>\n",
       "      <td>154.0</td>\n",
       "      <td>155.0</td>\n",
       "    </tr>\n",
       "    <tr>\n",
       "      <th>75%</th>\n",
       "      <td>197.0</td>\n",
       "      <td>197.0</td>\n",
       "      <td>198.0</td>\n",
       "      <td>198.0</td>\n",
       "      <td>177.0</td>\n",
       "      <td>177.0</td>\n",
       "      <td>176.0</td>\n",
       "      <td>176.0</td>\n",
       "      <td>176.0</td>\n",
       "      <td>176.0</td>\n",
       "      <td>...</td>\n",
       "      <td>199.0</td>\n",
       "      <td>219.0</td>\n",
       "      <td>161.0</td>\n",
       "      <td>161.0</td>\n",
       "      <td>185.0</td>\n",
       "      <td>185.0</td>\n",
       "      <td>185.0</td>\n",
       "      <td>185.0</td>\n",
       "      <td>154.0</td>\n",
       "      <td>155.0</td>\n",
       "    </tr>\n",
       "    <tr>\n",
       "      <th>max</th>\n",
       "      <td>197.0</td>\n",
       "      <td>197.0</td>\n",
       "      <td>198.0</td>\n",
       "      <td>198.0</td>\n",
       "      <td>177.0</td>\n",
       "      <td>177.0</td>\n",
       "      <td>176.0</td>\n",
       "      <td>176.0</td>\n",
       "      <td>176.0</td>\n",
       "      <td>176.0</td>\n",
       "      <td>...</td>\n",
       "      <td>199.0</td>\n",
       "      <td>219.0</td>\n",
       "      <td>161.0</td>\n",
       "      <td>161.0</td>\n",
       "      <td>185.0</td>\n",
       "      <td>185.0</td>\n",
       "      <td>185.0</td>\n",
       "      <td>185.0</td>\n",
       "      <td>154.0</td>\n",
       "      <td>155.0</td>\n",
       "    </tr>\n",
       "  </tbody>\n",
       "</table>\n",
       "<p>64 rows × 425 columns</p>\n",
       "</div>"
      ],
      "text/plain": [
       "Model             3.5 RL 4dr  3.5 RL w/Navigation 4dr  300M 4dr  \\\n",
       "EngineSize count         1.0                      1.0       1.0   \n",
       "           mean          3.5                      3.5       3.5   \n",
       "           std           NaN                      NaN       NaN   \n",
       "           min           3.5                      3.5       3.5   \n",
       "           25%           3.5                      3.5       3.5   \n",
       "...                      ...                      ...       ...   \n",
       "Length     min         197.0                    197.0     198.0   \n",
       "           25%         197.0                    197.0     198.0   \n",
       "           50%         197.0                    197.0     198.0   \n",
       "           75%         197.0                    197.0     198.0   \n",
       "           max         197.0                    197.0     198.0   \n",
       "\n",
       "Model             300M Special Edition 4dr  325Ci 2dr  325Ci convertible 2dr  \\\n",
       "EngineSize count                       1.0        1.0                    1.0   \n",
       "           mean                        3.5        2.5                    2.5   \n",
       "           std                         NaN        NaN                    NaN   \n",
       "           min                         3.5        2.5                    2.5   \n",
       "           25%                         3.5        2.5                    2.5   \n",
       "...                                    ...        ...                    ...   \n",
       "Length     min                       198.0      177.0                  177.0   \n",
       "           25%                       198.0      177.0                  177.0   \n",
       "           50%                       198.0      177.0                  177.0   \n",
       "           75%                       198.0      177.0                  177.0   \n",
       "           max                       198.0      177.0                  177.0   \n",
       "\n",
       "Model             325i 4dr  325xi 4dr  325xi Sport  330Ci 2dr  ...  \\\n",
       "EngineSize count       1.0        1.0          1.0        1.0  ...   \n",
       "           mean        2.5        2.5          2.5        3.0  ...   \n",
       "           std         NaN        NaN          NaN        NaN  ...   \n",
       "           min         2.5        2.5          2.5        3.0  ...   \n",
       "           25%         2.5        2.5          2.5        3.0  ...   \n",
       "...                    ...        ...          ...        ...  ...   \n",
       "Length     min       176.0      176.0        176.0      176.0  ...   \n",
       "           25%       176.0      176.0        176.0      176.0  ...   \n",
       "           50%       176.0      176.0        176.0      176.0  ...   \n",
       "           75%       176.0      176.0        176.0      176.0  ...   \n",
       "           max       176.0      176.0        176.0      176.0  ...   \n",
       "\n",
       "Model             Yukon 1500 SLE  Yukon XL 2500 SLT  Z4 convertible 2.5i 2dr  \\\n",
       "EngineSize count             1.0                1.0                      1.0   \n",
       "           mean              4.8                6.0                      2.5   \n",
       "           std               NaN                NaN                      NaN   \n",
       "           min               4.8                6.0                      2.5   \n",
       "           25%               4.8                6.0                      2.5   \n",
       "...                          ...                ...                      ...   \n",
       "Length     min             199.0              219.0                    161.0   \n",
       "           25%             199.0              219.0                    161.0   \n",
       "           50%             199.0              219.0                    161.0   \n",
       "           75%             199.0              219.0                    161.0   \n",
       "           max             199.0              219.0                    161.0   \n",
       "\n",
       "Model             Z4 convertible 3.0i 2dr  lon2 4dr  lon2 quad coupe 2dr  \\\n",
       "EngineSize count                      1.0       1.0                  1.0   \n",
       "           mean                       3.0       2.2                  2.2   \n",
       "           std                        NaN       NaN                  NaN   \n",
       "           min                        3.0       2.2                  2.2   \n",
       "           25%                        3.0       2.2                  2.2   \n",
       "...                                   ...       ...                  ...   \n",
       "Length     min                      161.0     185.0                185.0   \n",
       "           25%                      161.0     185.0                185.0   \n",
       "           50%                      161.0     185.0                185.0   \n",
       "           75%                      161.0     185.0                185.0   \n",
       "           max                      161.0     185.0                185.0   \n",
       "\n",
       "Model             lon3 4dr  lon3 quad coupe 2dr  xA 4dr hatch     xB  \n",
       "EngineSize count       1.0                  1.0           1.0    1.0  \n",
       "           mean        2.2                  2.2           1.5    1.5  \n",
       "           std         NaN                  NaN           NaN    NaN  \n",
       "           min         2.2                  2.2           1.5    1.5  \n",
       "           25%         2.2                  2.2           1.5    1.5  \n",
       "...                    ...                  ...           ...    ...  \n",
       "Length     min       185.0                185.0         154.0  155.0  \n",
       "           25%       185.0                185.0         154.0  155.0  \n",
       "           50%       185.0                185.0         154.0  155.0  \n",
       "           75%       185.0                185.0         154.0  155.0  \n",
       "           max       185.0                185.0         154.0  155.0  \n",
       "\n",
       "[64 rows x 425 columns]"
      ]
     },
     "execution_count": 75,
     "metadata": {},
     "output_type": "execute_result"
    }
   ],
   "source": [
    "df.groupby('Model').describe().transpose()"
   ]
  },
  {
   "cell_type": "markdown",
   "id": "9f2c6d03",
   "metadata": {},
   "source": [
    "## Using visualization to describe the most type of DriveTrain being produced "
   ]
  },
  {
   "cell_type": "code",
   "execution_count": 88,
   "id": "776bc8f7",
   "metadata": {},
   "outputs": [
    {
     "data": {
      "text/plain": [
       "<AxesSubplot:xlabel='DriveTrain', ylabel='count'>"
      ]
     },
     "execution_count": 88,
     "metadata": {},
     "output_type": "execute_result"
    },
    {
     "data": {
      "image/png": "[encoded data removed]",
      "text/plain": [
       "<Figure size 432x288 with 1 Axes>"
      ]
     },
     "metadata": {
      "needs_background": "light"
     },
     "output_type": "display_data"
    }
   ],
   "source": [
    "sns.countplot(x= 'DriveTrain', data = df)"
   ]
  },
  {
   "cell_type": "markdown",
   "id": "35bc0a2c",
   "metadata": {},
   "source": [
    "## we concluded that the most common type used is the front drive train then the rear. "
   ]
  },
  {
   "cell_type": "markdown",
   "id": "b54041b0",
   "metadata": {},
   "source": [
    "## MSRP and Invoice relation "
   ]
  },
  {
   "cell_type": "code",
   "execution_count": 75,
   "id": "f43cb04a",
   "metadata": {},
   "outputs": [
    {
     "data": {
      "text/plain": [
       "<AxesSubplot:xlabel='MSRP', ylabel='Invoice'>"
      ]
     },
     "execution_count": 75,
     "metadata": {},
     "output_type": "execute_result"
    },
    {
     "data": {
      "image/png": "[encoded data removed]",
      "text/plain": [
       "<Figure size 432x288 with 1 Axes>"
      ]
     },
     "metadata": {
      "needs_background": "light"
     },
     "output_type": "display_data"
    }
   ],
   "source": [
    "sns.scatterplot(data=df, x=\"MSRP\", y=\"Invoice\")"
   ]
  },
  {
   "cell_type": "markdown",
   "id": "7b4fbc8e",
   "metadata": {},
   "source": [
    "## we had found that ther is a negative strong correlation when the MSRP increse the Invoice decrease. "
   ]
  },
  {
   "cell_type": "markdown",
   "id": "58293539",
   "metadata": {},
   "source": [
    "## using visualization to describe the most type that produced "
   ]
  },
  {
   "cell_type": "code",
   "execution_count": 115,
   "id": "fcb3a742",
   "metadata": {},
   "outputs": [
    {
     "data": {
      "text/plain": [
       "<AxesSubplot:xlabel='Type', ylabel='count'>"
      ]
     },
     "execution_count": 115,
     "metadata": {},
     "output_type": "execute_result"
    },
    {
     "data": {
      "image/png": "[encoded data removed]",
      "text/plain": [
       "<Figure size 432x288 with 1 Axes>"
      ]
     },
     "metadata": {
      "needs_background": "light"
     },
     "output_type": "display_data"
    }
   ],
   "source": [
    "sns.countplot(x= 'Type', data = df)"
   ]
  },
  {
   "cell_type": "markdown",
   "id": "c94ad240",
   "metadata": {},
   "source": [
    "## We had seen that the sedan most used then SUV. "
   ]
  },
  {
   "cell_type": "code",
   "execution_count": null,
   "id": "dfee8f55",
   "metadata": {},
   "outputs": [],
   "source": []
  },
  {
   "cell_type": "markdown",
   "id": "8ba239b5",
   "metadata": {},
   "source": [
    "## Here we use visualizations to see every origin and what is the percenatge of each type that produce "
   ]
  },
  {
   "cell_type": "code",
   "execution_count": 77,
   "id": "560625f6",
   "metadata": {},
   "outputs": [
    {
     "data": {
      "text/plain": [
       "<AxesSubplot:xlabel='Type', ylabel='count'>"
      ]
     },
     "execution_count": 77,
     "metadata": {},
     "output_type": "execute_result"
    },
    {
     "data": {
      "image/png": "[encoded data removed]",
      "text/plain": [
       "<Figure size 432x288 with 1 Axes>"
      ]
     },
     "metadata": {
      "needs_background": "light"
     },
     "output_type": "display_data"
    }
   ],
   "source": [
    "sns.countplot(x= 'Type', hue='Origin', data = df)"
   ]
  },
  {
   "cell_type": "markdown",
   "id": "5618df2d",
   "metadata": {},
   "source": [
    "## From our visualizations we see that the sedan is the most type of productions in all of origin, and in Asia specifically, Hybrid type is produced in Asia only,  type of truck produced in Asia and USA only, sports type produced most in Europe and the SUV is equal in productions for Asia and USA."
   ]
  },
  {
   "cell_type": "markdown",
   "id": "a0256d07",
   "metadata": {},
   "source": [
    "## Here we make visualizations to describe every Origin and what is the percentage of every in produce DriveTrain "
   ]
  },
  {
   "cell_type": "code",
   "execution_count": 119,
   "id": "474196d7",
   "metadata": {},
   "outputs": [
    {
     "data": {
      "text/plain": [
       "<AxesSubplot:xlabel='Origin', ylabel='count'>"
      ]
     },
     "execution_count": 119,
     "metadata": {},
     "output_type": "execute_result"
    },
    {
     "data": {
      "image/png": "[encoded data removed]",
      "text/plain": [
       "<Figure size 432x288 with 1 Axes>"
      ]
     },
     "metadata": {
      "needs_background": "light"
     },
     "output_type": "display_data"
    }
   ],
   "source": [
    "sns.countplot(x='Origin', hue = 'DriveTrain', data = df)"
   ]
  },
  {
   "cell_type": "markdown",
   "id": "1dffb8d0",
   "metadata": {},
   "source": [
    "## We see that the most common drivetrain used is the front in both of Asia and USA, but not in Europe rear is used most  "
   ]
  },
  {
   "cell_type": "markdown",
   "id": "5955358a",
   "metadata": {},
   "source": [
    "##  We use a visualization to see a relation between the horse power and the weight "
   ]
  },
  {
   "cell_type": "code",
   "execution_count": 151,
   "id": "d8803dff",
   "metadata": {},
   "outputs": [
    {
     "data": {
      "text/plain": [
       "<seaborn.axisgrid.FacetGrid at 0x21f8b7bceb0>"
      ]
     },
     "execution_count": 151,
     "metadata": {},
     "output_type": "execute_result"
    },
    {
     "data": {
      "image/png": "[encoded data removed]",
      "text/plain": [
       "<Figure size 360x360 with 1 Axes>"
      ]
     },
     "metadata": {
      "needs_background": "light"
     },
     "output_type": "display_data"
    }
   ],
   "source": [
    "sns.relplot(x=\"Horsepower\", y=\"Weight\", data=df)"
   ]
  },
  {
   "cell_type": "markdown",
   "id": "0f1763a7",
   "metadata": {},
   "source": [
    "## There is a positive correlation between horse and weight but ther is some outliers we will deal with them. "
   ]
  },
  {
   "cell_type": "markdown",
   "id": "aeb09384",
   "metadata": {},
   "source": [
    "## we use visualization to see a relation between a Wheelbase and weight "
   ]
  },
  {
   "cell_type": "code",
   "execution_count": 78,
   "id": "e3833978",
   "metadata": {},
   "outputs": [
    {
     "data": {
      "text/plain": [
       "<AxesSubplot:xlabel='Wheelbase', ylabel='Weight'>"
      ]
     },
     "execution_count": 78,
     "metadata": {},
     "output_type": "execute_result"
    },
    {
     "data": {
      "image/png": "[encoded data removed]",
      "text/plain": [
       "<Figure size 432x288 with 1 Axes>"
      ]
     },
     "metadata": {
      "needs_background": "light"
     },
     "output_type": "display_data"
    }
   ],
   "source": [
    "sns.scatterplot(x=\"Wheelbase\", y=\"Weight\", data=df)"
   ]
  },
  {
   "cell_type": "markdown",
   "id": "0b1d7c1c",
   "metadata": {},
   "source": [
    "## There is a posotive correlation between them ."
   ]
  },
  {
   "cell_type": "markdown",
   "id": "f9cb1493",
   "metadata": {},
   "source": [
    "## We see a visualization to see relation between a cylinders and horsepower "
   ]
  },
  {
   "cell_type": "code",
   "execution_count": 80,
   "id": "349b7489",
   "metadata": {},
   "outputs": [
    {
     "data": {
      "text/plain": [
       "6.0     190\n",
       "4.0     136\n",
       "8.0      87\n",
       "5.0       7\n",
       "12.0      3\n",
       "10.0      2\n",
       "3.0       1\n",
       "Name: Cylinders, dtype: int64"
      ]
     },
     "execution_count": 80,
     "metadata": {},
     "output_type": "execute_result"
    }
   ],
   "source": [
    "df[\"Cylinders\"].value_counts()"
   ]
  },
  {
   "cell_type": "code",
   "execution_count": 81,
   "id": "c706b9a3",
   "metadata": {},
   "outputs": [
    {
     "data": {
      "text/plain": [
       "<AxesSubplot:xlabel='Cylinders', ylabel='count'>"
      ]
     },
     "execution_count": 81,
     "metadata": {},
     "output_type": "execute_result"
    },
    {
     "data": {
      "image/png": "[encoded data removed]",
      "text/plain": [
       "<Figure size 432x288 with 1 Axes>"
      ]
     },
     "metadata": {
      "needs_background": "light"
     },
     "output_type": "display_data"
    }
   ],
   "source": [
    "sns.countplot(x=\"Cylinders\", data=df)"
   ]
  },
  {
   "cell_type": "code",
   "execution_count": null,
   "id": "f5a89ab2",
   "metadata": {},
   "outputs": [],
   "source": []
  },
  {
   "cell_type": "markdown",
   "id": "8ad87cda",
   "metadata": {},
   "source": [
    "## We see that the most common size of cylinder used is 6,4,8.  "
   ]
  },
  {
   "cell_type": "markdown",
   "id": "571532a7",
   "metadata": {},
   "source": [
    "## This is a realtion between a horse power and enginesize "
   ]
  },
  {
   "cell_type": "code",
   "execution_count": 133,
   "id": "ef04f10c",
   "metadata": {},
   "outputs": [
    {
     "data": {
      "text/plain": [
       "<seaborn.axisgrid.FacetGrid at 0x21f871180d0>"
      ]
     },
     "execution_count": 133,
     "metadata": {},
     "output_type": "execute_result"
    },
    {
     "data": {
      "image/png": "[encoded data removed]",
      "text/plain": [
       "<Figure size 360x360 with 1 Axes>"
      ]
     },
     "metadata": {
      "needs_background": "light"
     },
     "output_type": "display_data"
    }
   ],
   "source": [
    "sns.relplot(x=\"EngineSize\", y=\"Horsepower\", data=df)"
   ]
  },
  {
   "cell_type": "code",
   "execution_count": 138,
   "id": "f6998bca",
   "metadata": {},
   "outputs": [
    {
     "data": {
      "text/html": [
       "<div>\n",
       "<style scoped>\n",
       "    .dataframe tbody tr th:only-of-type {\n",
       "        vertical-align: middle;\n",
       "    }\n",
       "\n",
       "    .dataframe tbody tr th {\n",
       "        vertical-align: top;\n",
       "    }\n",
       "\n",
       "    .dataframe thead th {\n",
       "        text-align: right;\n",
       "    }\n",
       "</style>\n",
       "<table border=\"1\" class=\"dataframe\">\n",
       "  <thead>\n",
       "    <tr style=\"text-align: right;\">\n",
       "      <th></th>\n",
       "      <th>EngineSize</th>\n",
       "      <th>Cylinders</th>\n",
       "      <th>Horsepower</th>\n",
       "      <th>MPG_City</th>\n",
       "      <th>MPG_Highway</th>\n",
       "      <th>Weight</th>\n",
       "      <th>Wheelbase</th>\n",
       "      <th>Length</th>\n",
       "    </tr>\n",
       "  </thead>\n",
       "  <tbody>\n",
       "    <tr>\n",
       "      <th>EngineSize</th>\n",
       "      <td>1.000000</td>\n",
       "      <td>0.908002</td>\n",
       "      <td>0.787435</td>\n",
       "      <td>-0.709471</td>\n",
       "      <td>-0.717302</td>\n",
       "      <td>0.807867</td>\n",
       "      <td>0.636517</td>\n",
       "      <td>0.637448</td>\n",
       "    </tr>\n",
       "    <tr>\n",
       "      <th>Cylinders</th>\n",
       "      <td>0.908002</td>\n",
       "      <td>1.000000</td>\n",
       "      <td>0.810341</td>\n",
       "      <td>-0.684402</td>\n",
       "      <td>-0.676100</td>\n",
       "      <td>0.742209</td>\n",
       "      <td>0.546730</td>\n",
       "      <td>0.547783</td>\n",
       "    </tr>\n",
       "    <tr>\n",
       "      <th>Horsepower</th>\n",
       "      <td>0.787435</td>\n",
       "      <td>0.810341</td>\n",
       "      <td>1.000000</td>\n",
       "      <td>-0.676699</td>\n",
       "      <td>-0.647195</td>\n",
       "      <td>0.630796</td>\n",
       "      <td>0.387398</td>\n",
       "      <td>0.381554</td>\n",
       "    </tr>\n",
       "    <tr>\n",
       "      <th>MPG_City</th>\n",
       "      <td>-0.709471</td>\n",
       "      <td>-0.684402</td>\n",
       "      <td>-0.676699</td>\n",
       "      <td>1.000000</td>\n",
       "      <td>0.941021</td>\n",
       "      <td>-0.737966</td>\n",
       "      <td>-0.507284</td>\n",
       "      <td>-0.501526</td>\n",
       "    </tr>\n",
       "    <tr>\n",
       "      <th>MPG_Highway</th>\n",
       "      <td>-0.717302</td>\n",
       "      <td>-0.676100</td>\n",
       "      <td>-0.647195</td>\n",
       "      <td>0.941021</td>\n",
       "      <td>1.000000</td>\n",
       "      <td>-0.790989</td>\n",
       "      <td>-0.524661</td>\n",
       "      <td>-0.466092</td>\n",
       "    </tr>\n",
       "    <tr>\n",
       "      <th>Weight</th>\n",
       "      <td>0.807867</td>\n",
       "      <td>0.742209</td>\n",
       "      <td>0.630796</td>\n",
       "      <td>-0.737966</td>\n",
       "      <td>-0.790989</td>\n",
       "      <td>1.000000</td>\n",
       "      <td>0.760703</td>\n",
       "      <td>0.690021</td>\n",
       "    </tr>\n",
       "    <tr>\n",
       "      <th>Wheelbase</th>\n",
       "      <td>0.636517</td>\n",
       "      <td>0.546730</td>\n",
       "      <td>0.387398</td>\n",
       "      <td>-0.507284</td>\n",
       "      <td>-0.524661</td>\n",
       "      <td>0.760703</td>\n",
       "      <td>1.000000</td>\n",
       "      <td>0.889195</td>\n",
       "    </tr>\n",
       "    <tr>\n",
       "      <th>Length</th>\n",
       "      <td>0.637448</td>\n",
       "      <td>0.547783</td>\n",
       "      <td>0.381554</td>\n",
       "      <td>-0.501526</td>\n",
       "      <td>-0.466092</td>\n",
       "      <td>0.690021</td>\n",
       "      <td>0.889195</td>\n",
       "      <td>1.000000</td>\n",
       "    </tr>\n",
       "  </tbody>\n",
       "</table>\n",
       "</div>"
      ],
      "text/plain": [
       "             EngineSize  Cylinders  Horsepower  MPG_City  MPG_Highway  \\\n",
       "EngineSize     1.000000   0.908002    0.787435 -0.709471    -0.717302   \n",
       "Cylinders      0.908002   1.000000    0.810341 -0.684402    -0.676100   \n",
       "Horsepower     0.787435   0.810341    1.000000 -0.676699    -0.647195   \n",
       "MPG_City      -0.709471  -0.684402   -0.676699  1.000000     0.941021   \n",
       "MPG_Highway   -0.717302  -0.676100   -0.647195  0.941021     1.000000   \n",
       "Weight         0.807867   0.742209    0.630796 -0.737966    -0.790989   \n",
       "Wheelbase      0.636517   0.546730    0.387398 -0.507284    -0.524661   \n",
       "Length         0.637448   0.547783    0.381554 -0.501526    -0.466092   \n",
       "\n",
       "               Weight  Wheelbase    Length  \n",
       "EngineSize   0.807867   0.636517  0.637448  \n",
       "Cylinders    0.742209   0.546730  0.547783  \n",
       "Horsepower   0.630796   0.387398  0.381554  \n",
       "MPG_City    -0.737966  -0.507284 -0.501526  \n",
       "MPG_Highway -0.790989  -0.524661 -0.466092  \n",
       "Weight       1.000000   0.760703  0.690021  \n",
       "Wheelbase    0.760703   1.000000  0.889195  \n",
       "Length       0.690021   0.889195  1.000000  "
      ]
     },
     "execution_count": 138,
     "metadata": {},
     "output_type": "execute_result"
    }
   ],
   "source": [
    "df.corr()"
   ]
  },
  {
   "cell_type": "markdown",
   "id": "2db0e35e",
   "metadata": {},
   "source": [
    "## using visualization to see the max horse power in a car "
   ]
  },
  {
   "cell_type": "code",
   "execution_count": 142,
   "id": "3ffb74d1",
   "metadata": {},
   "outputs": [
    {
     "data": {
      "text/plain": [
       "<seaborn.axisgrid.FacetGrid at 0x21f8a1536d0>"
      ]
     },
     "execution_count": 142,
     "metadata": {},
     "output_type": "execute_result"
    },
    {
     "data": {
      "image/png": "[encoded data removed]",
      "text/plain": [
       "<Figure size 360x360 with 1 Axes>"
      ]
     },
     "metadata": {
      "needs_background": "light"
     },
     "output_type": "display_data"
    }
   ],
   "source": [
    "sns.displot(df['Horsepower'])"
   ]
  },
  {
   "cell_type": "markdown",
   "id": "a8ecdced",
   "metadata": {},
   "source": [
    "## Coorlation Between  MPG_City and MPG_Highway"
   ]
  },
  {
   "cell_type": "code",
   "execution_count": 84,
   "id": "ffb46d91",
   "metadata": {},
   "outputs": [
    {
     "data": {
      "text/plain": [
       "<AxesSubplot:xlabel='MPG_City', ylabel='MPG_Highway'>"
      ]
     },
     "execution_count": 84,
     "metadata": {},
     "output_type": "execute_result"
    },
    {
     "data": {
      "image/png": "[encoded data removed]",
      "text/plain": [
       "<Figure size 432x288 with 1 Axes>"
      ]
     },
     "metadata": {
      "needs_background": "light"
     },
     "output_type": "display_data"
    }
   ],
   "source": [
    "sns.scatterplot(x='MPG_City', y= 'MPG_Highway', data =df)"
   ]
  },
  {
   "cell_type": "markdown",
   "id": "adec0409",
   "metadata": {},
   "source": [
    "## There is a strong correlation between both of them "
   ]
  },
  {
   "cell_type": "code",
   "execution_count": null,
   "id": "6e85e4ba",
   "metadata": {},
   "outputs": [],
   "source": []
  }
 ],
 "metadata": {
  "kernelspec": {
   "display_name": "Python 3",
   "language": "python",
   "name": "python3"
  },
  "language_info": {
   "codemirror_mode": {
    "name": "ipython",
    "version": 3
   },
   "file_extension": ".py",
   "mimetype": "text/x-python",
   "name": "python",
   "nbconvert_exporter": "python",
   "pygments_lexer": "ipython3",
   "version": "3.8.8"
  }
 },
 "nbformat": 4,
 "nbformat_minor": 5
}
